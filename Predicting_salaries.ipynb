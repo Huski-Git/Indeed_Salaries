{
 "cells": [
  {
   "cell_type": "markdown",
   "metadata": {
    "focus": false,
    "id": "69b9a648-bcc7-490d-9f9b-ea244d156bd6"
   },
   "source": [
    "<img src=\"http://imgur.com/1ZcRyrc.png\" style=\"float: left; margin: 15px; height: 80px\">\n",
    "\n",
    "\n",
    "# Web Scraping for Indeed.com and Predicting Salaries"
   ]
  },
  {
   "cell_type": "markdown",
   "metadata": {},
   "source": [
    "### Business Case Overview\n",
    "\n",
    "You're working as a data scientist for a contracting firm that's rapidly expanding. Now that they have their most valuable employee (you!), they need to leverage data to win more contracts. Your firm offers technology and scientific solutions and wants to be competitive in the hiring market. Your principal wants you to\n",
    "\n",
    "   - determine the industry factors that are most important in predicting the salary amounts for these data.\n",
    "\n",
    "To limit the scope, your principal has suggested that you *focus on data-related job postings*, e.g. data scientist, data analyst, research scientist, business intelligence, and any others you might think of. You may also want to decrease the scope by *limiting your search to a single region.*\n",
    "\n",
    "Hint: Aggregators like [Indeed.com](https://www.indeed.com) regularly pool job postings from a variety of markets and industries.\n",
    "\n",
    "**Goal:** Scrape your own data from a job aggregation tool like Indeed.com in order to collect the data to best answer this question.\n",
    "\n",
    "---\n",
    "\n",
    "### Directions\n",
    "\n",
    "In this project you will be leveraging a variety of skills. The first will be to use the web-scraping and/or API techniques you've learned to collect data on data jobs from Indeed.com or another aggregator. Once you have collected and cleaned the data, you will use it to address the question above."
   ]
  },
  {
   "cell_type": "markdown",
   "metadata": {},
   "source": [
    "### Factors that impact salary\n",
    "\n",
    "To predict salary the most appropriate approach would be a regression model.\n",
    "Here instead we just want to estimate which factors (like location, job title, job level, industry sector) lead to high or low salary and work with a classification model. To do so, split the salary into two groups of high and low salary, for example by choosing the median salary as a threshold (in principle you could choose any single or multiple splitting points).\n",
    "\n",
    "Use all the skills you have learned so far to build a predictive model.\n",
    "Whatever you decide to use, the most important thing is to justify your choices and interpret your results. *Communication of your process is key.* Note that most listings **DO NOT** come with salary information. You'll need to be able to extrapolate or predict the expected salaries for these listings."
   ]
  },
  {
   "cell_type": "markdown",
   "metadata": {
    "focus": false,
    "id": "a948d79c-5527-4c0d-ab23-f5d43ce72056"
   },
   "source": [
    "### Scraping job listings from Indeed.com"
   ]
  },
  {
   "cell_type": "markdown",
   "metadata": {
    "focus": true,
    "id": "7203e0c9-e437-4802-a6ad-7dc464f94436"
   },
   "source": [
    "We will be scraping job listings from Indeed.com using BeautifulSoup. Luckily, Indeed.com is a simple text page where we can easily find relevant entries.\n",
    "\n",
    "First, look at the source of an Indeed.com page: (http://www.indeed.com/jobs?q=data+scientist+%2420%2C000&l=New+York&start=10\").\n",
    "\n",
    "Notice, each job listing is underneath a `div` tag with a class name of `result`. We can use BeautifulSoup to extract those. "
   ]
  },
  {
   "cell_type": "markdown",
   "metadata": {
    "focus": false,
    "id": "9732c901-ae26-4160-8376-42e22dd327df"
   },
   "source": [
    "#### Setup a request (using `requests`) to the URL below. Use BeautifulSoup to parse the page and extract all results (HINT: Look for div tags with class name result)\n",
    "\n",
    "The URL here has many query parameters:\n",
    "\n",
    "- `q` for the job search\n",
    "- This is followed by \"+20,000\" to return results with salaries (or expected salaries >$20,000)\n",
    "- `l` for a location \n",
    "- `start` for what result number to start on"
   ]
  },
  {
   "cell_type": "code",
   "execution_count": 2,
   "metadata": {
    "ExecuteTime": {
     "end_time": "2020-03-30T14:26:13.097861Z",
     "start_time": "2020-03-30T14:26:10.158087Z"
    },
    "focus": false,
    "id": "2efefc73-064a-482d-b3b5-ddf5508cb4ec"
   },
   "outputs": [],
   "source": [
    "import pandas as pd\n",
    "import numpy as np\n",
    "from bs4 import BeautifulSoup\n",
    "import requests\n",
    "from tqdm import tqdm_notebook\n",
    "import re\n",
    "from sklearn.model_selection import train_test_split"
   ]
  },
  {
   "cell_type": "code",
   "execution_count": null,
   "metadata": {
    "ExecuteTime": {
     "end_time": "2020-03-30T13:53:09.975394Z",
     "start_time": "2020-03-30T13:52:52.892896Z"
    }
   },
   "outputs": [],
   "source": [
    "results = [] # Unindent if wanting to do multiple pages\n",
    "for x in tqdm_notebook(range(1,11)):  #Uncomment if wanting to do multiple pages\n",
    "    url = \"http://www.indeed.com/jobs?q=data+scientist+%2420%2C000&l=New+York&start={}\".format(x)\n",
    "    r=requests.get(url)\n",
    "    soup=BeautifulSoup(r.text, 'html.parser')\n",
    "    for job in soup.find_all('div',attrs={'class':'jobsearch-SerpJobCard'}):\n",
    "        try:\n",
    "            results.append(job)\n",
    "        except:\n",
    "            results.append(np.nan)\n",
    "            "
   ]
  },
  {
   "cell_type": "code",
   "execution_count": null,
   "metadata": {
    "ExecuteTime": {
     "end_time": "2020-03-30T13:53:10.011152Z",
     "start_time": "2020-03-30T13:53:09.980483Z"
    }
   },
   "outputs": [],
   "source": [
    "len(results)"
   ]
  },
  {
   "cell_type": "code",
   "execution_count": null,
   "metadata": {
    "ExecuteTime": {
     "end_time": "2020-03-30T13:53:10.217067Z",
     "start_time": "2020-03-30T13:53:10.020498Z"
    }
   },
   "outputs": [],
   "source": [
    "print(results)"
   ]
  },
  {
   "cell_type": "markdown",
   "metadata": {
    "focus": false,
    "id": "bb0b866a-26a7-45e9-8084-5a0f90eb4b3e"
   },
   "source": [
    "Let's look at one result more closely. A single `result` looks like\n",
    "\n",
    "```\n",
    "<div class=\" row result\" data-jk=\"2480d203f7e97210\" data-tn-component=\"organicJob\" id=\"p_2480d203f7e97210\" itemscope=\"\" itemtype=\"http://schema.org/JobPosting\">\n",
    "<h2 class=\"jobtitle\" id=\"jl_2480d203f7e97210\">\n",
    "<a class=\"turnstileLink\" data-tn-element=\"jobTitle\" onmousedown=\"return rclk(this,jobmap[0],1);\" rel=\"nofollow\" target=\"_blank\" title=\"AVP/Quantitative Analyst\">AVP/Quantitative Analyst</a>\n",
    "</h2>\n",
    "<span class=\"company\" itemprop=\"hiringOrganization\" itemtype=\"http://schema.org/Organization\">\n",
    "<span itemprop=\"name\">\n",
    "<a href=\"/cmp/Alliancebernstein?from=SERP&amp;campaignid=serp-linkcompanyname&amp;fromjk=2480d203f7e97210&amp;jcid=b374f2a780e04789\" target=\"_blank\">\n",
    "    AllianceBernstein</a></span>\n",
    "</span>\n",
    "<tr>\n",
    "<td class=\"snip\">\n",
    "<nobr>$117,500 - $127,500 a year</nobr>\n",
    "<div>\n",
    "<span class=\"summary\" itemprop=\"description\">\n",
    "C onduct quantitative and statistical research as well as portfolio management for various investment portfolios. Collaborate with Quantitative Analysts and</span>\n",
    "</div>\n",
    "</div>\n",
    "</td>\n",
    "</tr>\n",
    "</table>\n",
    "</div>\n",
    "```\n",
    "\n",
    "While this has some more verbose elements removed, we can see that there is some structure to the above:\n",
    "- The salary is in a `span` with `class='salaryText'`.\n",
    "- The title of a job is in a link with class set to `jobtitle` and a `data-tn-element='jobTitle'`.  \n",
    "- The location is set in a `span` with `class='location'`. \n",
    "- The company is set in a `span` with `class='company'`. \n",
    "- Decide which other components could be relevant, for example the region or the summary of the job advert."
   ]
  },
  {
   "cell_type": "markdown",
   "metadata": {
    "focus": false,
    "id": "f1eddb90-4ba8-483c-a229-77e93aa53119"
   },
   "source": [
    "### Write 4 functions to extract each item: location, company, job, and salary.\n",
    "\n",
    "Example: \n",
    "```python\n",
    "def extract_location_from_result(result):\n",
    "    return result.find ...\n",
    "```\n",
    "\n",
    "\n",
    "- **Make sure these functions are robust and can handle cases where the data/field may not be available.**\n",
    "    - Remember to check if a field is empty or `None` for attempting to call methods on it.\n",
    "    - Remember to use `try/except` if you anticipate errors.\n",
    "- **Test** the functions on the results above and simple examples."
   ]
  },
  {
   "cell_type": "code",
   "execution_count": null,
   "metadata": {
    "ExecuteTime": {
     "end_time": "2020-03-30T13:53:10.237757Z",
     "start_time": "2020-03-30T13:53:10.227040Z"
    },
    "focus": false,
    "id": "a1af53c9-9090-494f-b82e-cadb60a54909"
   },
   "outputs": [],
   "source": [
    "## YOUR CODE HERE\n",
    "def extract_job_title(results):\n",
    "    job_title = []\n",
    "    for job in results:\n",
    "        try:\n",
    "            job_title.append(job.find('div',attrs={'class':'title'}).text.strip())\n",
    "        except:\n",
    "            job_title.append(np.nan)\n",
    "    return job_title"
   ]
  },
  {
   "cell_type": "code",
   "execution_count": null,
   "metadata": {
    "ExecuteTime": {
     "end_time": "2020-03-30T13:53:10.259770Z",
     "start_time": "2020-03-30T13:53:10.248330Z"
    }
   },
   "outputs": [],
   "source": [
    "def extract_company(results):\n",
    "    company = []\n",
    "    for job in results:\n",
    "        try:\n",
    "            company.append(job.find('a',attrs={'data-tn-element':'companyName'}).text.strip())\n",
    "        except:\n",
    "            company.append(np.nan)\n",
    "    return company"
   ]
  },
  {
   "cell_type": "code",
   "execution_count": null,
   "metadata": {
    "ExecuteTime": {
     "end_time": "2020-03-30T13:53:10.280108Z",
     "start_time": "2020-03-30T13:53:10.268824Z"
    }
   },
   "outputs": [],
   "source": [
    "def extract_location(results):\n",
    "    location = []\n",
    "    for job in results:\n",
    "        location.append(city)\n",
    "    return location"
   ]
  },
  {
   "cell_type": "code",
   "execution_count": null,
   "metadata": {
    "ExecuteTime": {
     "end_time": "2020-03-30T13:53:10.305365Z",
     "start_time": "2020-03-30T13:53:10.295225Z"
    }
   },
   "outputs": [],
   "source": [
    "#Apparently we dont really need this\n",
    "def extract_description(results):\n",
    "    description = []\n",
    "    for job in results:\n",
    "        try:\n",
    "            description.append(job.find('div',attrs={'class':'summary'}).text.strip())\n",
    "        except:\n",
    "            description.append(np.nan)\n",
    "    return description"
   ]
  },
  {
   "cell_type": "code",
   "execution_count": null,
   "metadata": {
    "ExecuteTime": {
     "end_time": "2020-03-30T13:53:10.330891Z",
     "start_time": "2020-03-30T13:53:10.320638Z"
    }
   },
   "outputs": [],
   "source": [
    "def extract_salary(results):\n",
    "    salary = []\n",
    "    for job in results:\n",
    "        try:\n",
    "            salary.append(job.find('span',attrs={'class':'salaryText'}).text.strip())\n",
    "        except:\n",
    "            salary.append(np.nan)\n",
    "    return salary"
   ]
  },
  {
   "cell_type": "markdown",
   "metadata": {
    "focus": false,
    "id": "34070e89-9521-4b45-90c8-57a6599aac68"
   },
   "source": [
    "Now, to scale up our scraping, we need to accumulate more results. We can do this by examining the URL above.\n",
    "\n",
    "- \"http://www.indeed.com/jobs?q=data+scientist+%2420%2C000&l=New+York&start=10\"\n",
    "\n",
    "There are two query parameters here we can alter to collect more results, the `l=New+York` and the `start=10`. The first controls the location of the results (so we can try a different city). The second controls where in the results to start and gives 10 results (thus, we can keep incrementing by 10 to go further in the list)."
   ]
  },
  {
   "cell_type": "markdown",
   "metadata": {
    "focus": false,
    "id": "e8beed7c-3e42-40c0-810f-5f67f8f885a0"
   },
   "source": [
    "### Complete the following code to collect results from multiple cities and starting points. \n",
    "- Enter your city below to add it to the search.\n",
    "- Remember to convert your salary to U.S. Dollars to match the other cities if the currency is different."
   ]
  },
  {
   "cell_type": "code",
   "execution_count": null,
   "metadata": {
    "ExecuteTime": {
     "end_time": "2020-03-30T13:53:10.343334Z",
     "start_time": "2020-03-30T13:53:10.335369Z"
    }
   },
   "outputs": [],
   "source": [
    "pattern = re.compile(r'(\\d+\\,\\d+|\\d+)')\n"
   ]
  },
  {
   "cell_type": "code",
   "execution_count": null,
   "metadata": {
    "ExecuteTime": {
     "end_time": "2020-03-30T13:53:10.363365Z",
     "start_time": "2020-03-30T13:53:10.348269Z"
    }
   },
   "outputs": [],
   "source": [
    "x=soup.find('div',attrs={'id':'searchCountPages'}).text.strip()\n",
    "print(x)\n",
    "re.findall(pattern,x)"
   ]
  },
  {
   "cell_type": "code",
   "execution_count": null,
   "metadata": {
    "ExecuteTime": {
     "end_time": "2020-03-30T13:53:10.395492Z",
     "start_time": "2020-03-30T13:53:10.369361Z"
    }
   },
   "outputs": [],
   "source": [
    "re.findall(pattern,x)[1]"
   ]
  },
  {
   "cell_type": "code",
   "execution_count": null,
   "metadata": {
    "ExecuteTime": {
     "start_time": "2020-03-30T14:23:00.536Z"
    },
    "focus": false,
    "id": "04b0f9af-540e-402f-8292-81748707c676",
    "scrolled": true
   },
   "outputs": [],
   "source": [
    "url_template = \"http://www.indeed.com/jobs?q=data+scientist+%2420%2C000&l={}&start={}\"\n",
    "# Set this to a high-value (5000) to generate more results. \n",
    "# Crawling more results, will also take much longer. First test your code on a small number of results and then expand.\n",
    "\n",
    "results = []\n",
    "location=[]\n",
    "\n",
    "for city in ['New+York',\n",
    "             'Los+Angeles' , 'Chicago', 'Houston', 'Phoenix',\n",
    "             'Philadelphia', 'San+Antonio', 'San+Diego', 'Dallas', 'San+Jose',\n",
    "             'Austin' , 'Jacksonville', 'Fort+Worth', 'Columbus', 'San+Francisco',\n",
    "             'Charlotte', 'Indianapolis', 'Seattle', 'Denver', 'Washington',\n",
    "             'Boston', 'El+Paso', 'Detroit', 'Nashville', 'Portland',\n",
    "             ]:    \n",
    "    \n",
    "    for job_title in ['\"Data+Scientist\"',\n",
    "                      '\"Data+Engineer\"','\"Data+Analyst\"',\n",
    "                      'Data+Scientist+Graduate', '\"Data+Science\"'\n",
    "                      ]:\n",
    "        try:\n",
    "            url = \"http://www.indeed.com/jobs?q={}+%2420%2C000&l={}&start=1\".format(job_title,city)\n",
    "            r=requests.get(url)\n",
    "            soup=BeautifulSoup(r.text, 'html.parser')  \n",
    "\n",
    "\n",
    "\n",
    "            pattern = re.compile(r'(\\d+\\,\\d+|\\d+)')\n",
    "            x=soup.find('div',attrs={'id':'searchCountPages'}).text.strip()\n",
    "            max_results_per_city=int(re.findall(pattern,x)[1].replace(',',''))\n",
    "            for start in tqdm_notebook(range(0, max_results_per_city,50)):\n",
    "                # Grab the results from the request (as above)\n",
    "                # Append to the full set of results\n",
    "                url = \"http://www.indeed.com/jobs?q={}+%2420%2C000&l={}&start={}&limit=50\".format(job_title,city,start)\n",
    "                r=requests.get(url)\n",
    "                soup=BeautifulSoup(r.text, 'html.parser')\n",
    "                for job in soup.find_all('div',attrs={'class':'jobsearch-SerpJobCard'}):\n",
    "                    try:\n",
    "                        results.append(job)\n",
    "                        location.append(city)\n",
    "                    except:\n",
    "                        results.append(np.nan)\n",
    "                        location.append(city)\n",
    "                pass\n",
    "        except:\n",
    "            pass"
   ]
  },
  {
   "cell_type": "code",
   "execution_count": null,
   "metadata": {
    "ExecuteTime": {
     "end_time": "2020-03-30T13:56:38.847897Z",
     "start_time": "2020-03-30T13:52:47.567Z"
    }
   },
   "outputs": [],
   "source": [
    "len(results)"
   ]
  },
  {
   "cell_type": "markdown",
   "metadata": {
    "focus": false,
    "id": "20339c09-5032-4e27-91be-286e9b46cd13"
   },
   "source": [
    "#### Use the functions you wrote above to parse out the 4 fields - location, title, company and salary. Create a dataframe from the results with those 4 columns."
   ]
  },
  {
   "cell_type": "code",
   "execution_count": null,
   "metadata": {
    "ExecuteTime": {
     "end_time": "2020-03-30T13:56:38.850678Z",
     "start_time": "2020-03-30T13:52:47.572Z"
    },
    "focus": false,
    "id": "6e259594-1c52-436b-ab9e-527e071941c1"
   },
   "outputs": [],
   "source": [
    "## YOUR CODE HERE\n",
    "location = [x.replace('+',' ') for x in location]\n",
    "results_dict={'job_title':extract_job_title(results),\n",
    "              'company':extract_company(results),\n",
    "              'location':location,\n",
    "              'salary':extract_salary(results),\n",
    "              }\n",
    "\n",
    "df=pd.DataFrame(results_dict,columns=results_dict.keys())\n",
    "df.to_csv('./df1.csv') #Saves dataframe as a CSV file\n",
    "#df1 = The first 25 largest cities"
   ]
  },
  {
   "cell_type": "code",
   "execution_count": null,
   "metadata": {
    "ExecuteTime": {
     "end_time": "2020-03-30T13:56:38.853862Z",
     "start_time": "2020-03-30T13:52:47.577Z"
    }
   },
   "outputs": [],
   "source": [
    "df"
   ]
  },
  {
   "cell_type": "code",
   "execution_count": null,
   "metadata": {
    "ExecuteTime": {
     "end_time": "2020-03-30T13:56:38.861875Z",
     "start_time": "2020-03-30T13:52:47.582Z"
    }
   },
   "outputs": [],
   "source": [
    "df1= pd.read_csv('./df1.csv')\n",
    "del df1['Unnamed: 0']"
   ]
  },
  {
   "cell_type": "markdown",
   "metadata": {
    "focus": false,
    "id": "ff98ce64-78a7-441f-a675-63464e32c834"
   },
   "source": [
    "Lastly, we need to clean up salary data. \n",
    "\n",
    "1. Only a small number of the scraped results have salary information - only these will be used for modeling.\n",
    "1. Some of the salaries are not yearly but hourly or weekly, these will not be useful to us for now.\n",
    "1. Some of the entries may be duplicated.\n",
    "1. The salaries are given as text and usually with ranges."
   ]
  },
  {
   "cell_type": "markdown",
   "metadata": {
    "focus": false,
    "id": "ff98ce64-78a7-441f-a675-63464e32c834"
   },
   "source": [
    "#### Find the entries with annual salary entries, by filtering the entries without salaries or salaries that are not yearly (filter those that refer to hour or week). Also, remove duplicate entries."
   ]
  },
  {
   "cell_type": "code",
   "execution_count": null,
   "metadata": {
    "ExecuteTime": {
     "end_time": "2020-03-30T13:56:38.875030Z",
     "start_time": "2020-03-30T13:52:47.588Z"
    },
    "focus": false,
    "id": "58533e57-f86b-494a-b841-e7b59c6229c6"
   },
   "outputs": [],
   "source": [
    "### YOUR CODE HERE\n",
    "#Cleaning with no nulls and shows yearly salary\n",
    "df1=df1[(df1['salary'].notnull()) & (df1['salary'].str.contains('year'))]\n",
    "df1.drop_duplicates(keep='first',inplace=True)\n"
   ]
  },
  {
   "cell_type": "markdown",
   "metadata": {
    "focus": false,
    "id": "7d4bc860-b214-4f75-9cd0-b234830b1ec2"
   },
   "source": [
    "#### Write a function that takes a salary string and converts it to a number, averaging a salary range if necessary."
   ]
  },
  {
   "cell_type": "code",
   "execution_count": null,
   "metadata": {
    "ExecuteTime": {
     "end_time": "2020-03-30T13:56:38.883169Z",
     "start_time": "2020-03-30T13:52:47.594Z"
    },
    "focus": false,
    "id": "a0f701e0-80bd-40ba-9101-4535860c0968"
   },
   "outputs": [],
   "source": [
    "## YOUR CODE HERE\n",
    "#Converting salary into an average for ranges & a float\n",
    "def get_salary(x):\n",
    "    x=x.replace(',','').replace('$','').split(' ')\n",
    "    salary=[]\n",
    "    for i in x:\n",
    "        if i.isnumeric():\n",
    "            if len(salary)<2:\n",
    "                salary.append(int(i))\n",
    "    return np.mean(salary)\n",
    "            "
   ]
  },
  {
   "cell_type": "code",
   "execution_count": null,
   "metadata": {
    "ExecuteTime": {
     "end_time": "2020-03-30T13:56:38.885684Z",
     "start_time": "2020-03-30T13:52:47.599Z"
    }
   },
   "outputs": [],
   "source": [
    "df1['salary']=df1['salary'].map(lambda x: get_salary(x))"
   ]
  },
  {
   "cell_type": "markdown",
   "metadata": {
    "focus": false,
    "id": "43e71edd-210e-42b1-9336-70a931f048af"
   },
   "source": [
    "### Save your results as a CSV"
   ]
  },
  {
   "cell_type": "code",
   "execution_count": null,
   "metadata": {
    "ExecuteTime": {
     "end_time": "2020-03-30T13:56:38.911817Z",
     "start_time": "2020-03-30T13:52:47.605Z"
    },
    "focus": false,
    "id": "783fd153-28ac-47ab-bfca-27e7c1de95b4"
   },
   "outputs": [],
   "source": [
    "## YOUR CODE HERE\n",
    "df1.to_csv('./cleandf.csv')"
   ]
  },
  {
   "cell_type": "markdown",
   "metadata": {},
   "source": [
    "# START FROM HERE"
   ]
  },
  {
   "cell_type": "markdown",
   "metadata": {
    "focus": false,
    "id": "243e949e-2742-40af-872e-fec475fd306c"
   },
   "source": [
    "### Load in the the data of scraped salaries"
   ]
  },
  {
   "cell_type": "code",
   "execution_count": 5,
   "metadata": {
    "ExecuteTime": {
     "end_time": "2020-03-30T14:26:30.019280Z",
     "start_time": "2020-03-30T14:26:30.011551Z"
    },
    "focus": false,
    "id": "588f9845-6143-4bcc-bfd1-85d45b79303d"
   },
   "outputs": [],
   "source": [
    "## YOUR CODE HERE\n",
    "clean = pd.read_csv('./cleandf.csv')"
   ]
  },
  {
   "cell_type": "code",
   "execution_count": 8,
   "metadata": {
    "ExecuteTime": {
     "end_time": "2020-03-30T14:27:18.252145Z",
     "start_time": "2020-03-30T14:27:18.245391Z"
    }
   },
   "outputs": [],
   "source": [
    "clean.drop('Unnamed: 0',inplace=True,axis=1)"
   ]
  },
  {
   "cell_type": "code",
   "execution_count": 9,
   "metadata": {
    "ExecuteTime": {
     "end_time": "2020-03-30T14:27:23.160213Z",
     "start_time": "2020-03-30T14:27:23.145050Z"
    }
   },
   "outputs": [
    {
     "data": {
      "text/html": [
       "<div>\n",
       "<style scoped>\n",
       "    .dataframe tbody tr th:only-of-type {\n",
       "        vertical-align: middle;\n",
       "    }\n",
       "\n",
       "    .dataframe tbody tr th {\n",
       "        vertical-align: top;\n",
       "    }\n",
       "\n",
       "    .dataframe thead th {\n",
       "        text-align: right;\n",
       "    }\n",
       "</style>\n",
       "<table border=\"1\" class=\"dataframe\">\n",
       "  <thead>\n",
       "    <tr style=\"text-align: right;\">\n",
       "      <th></th>\n",
       "      <th>job_title</th>\n",
       "      <th>company</th>\n",
       "      <th>location</th>\n",
       "      <th>salary</th>\n",
       "    </tr>\n",
       "  </thead>\n",
       "  <tbody>\n",
       "    <tr>\n",
       "      <td>0</td>\n",
       "      <td>Data Scientist</td>\n",
       "      <td>Research Foundation of The City University of ...</td>\n",
       "      <td>New York</td>\n",
       "      <td>85000.0</td>\n",
       "    </tr>\n",
       "    <tr>\n",
       "      <td>1</td>\n",
       "      <td>Data Scientist</td>\n",
       "      <td>New York City DEPARTMENT OF TRANSPORTATION</td>\n",
       "      <td>New York</td>\n",
       "      <td>73873.5</td>\n",
       "    </tr>\n",
       "    <tr>\n",
       "      <td>2</td>\n",
       "      <td>Data Scientist</td>\n",
       "      <td>New York City DEPARTMENT OF INVESTIGATION</td>\n",
       "      <td>New York</td>\n",
       "      <td>60172.0</td>\n",
       "    </tr>\n",
       "    <tr>\n",
       "      <td>3</td>\n",
       "      <td>Special Assistant (working title: Research Dat...</td>\n",
       "      <td>NaN</td>\n",
       "      <td>New York</td>\n",
       "      <td>64000.0</td>\n",
       "    </tr>\n",
       "    <tr>\n",
       "      <td>4</td>\n",
       "      <td>Senior Data Scientist</td>\n",
       "      <td>MetroPlus Health Plan</td>\n",
       "      <td>New York</td>\n",
       "      <td>107500.0</td>\n",
       "    </tr>\n",
       "    <tr>\n",
       "      <td>...</td>\n",
       "      <td>...</td>\n",
       "      <td>...</td>\n",
       "      <td>...</td>\n",
       "      <td>...</td>\n",
       "    </tr>\n",
       "    <tr>\n",
       "      <td>526</td>\n",
       "      <td>Hydrologist, GS-1315-11/12 (DEU-MTL)</td>\n",
       "      <td>US Department of the Interior</td>\n",
       "      <td>Portland</td>\n",
       "      <td>87375.5</td>\n",
       "    </tr>\n",
       "    <tr>\n",
       "      <td>527</td>\n",
       "      <td>Research Assistant 2</td>\n",
       "      <td>Oregon Health &amp; Science University</td>\n",
       "      <td>Portland</td>\n",
       "      <td>40284.0</td>\n",
       "    </tr>\n",
       "    <tr>\n",
       "      <td>528</td>\n",
       "      <td>CD2H Evaluator (Research Associate)</td>\n",
       "      <td>Oregon Health &amp; Science University</td>\n",
       "      <td>Portland</td>\n",
       "      <td>53000.0</td>\n",
       "    </tr>\n",
       "    <tr>\n",
       "      <td>529</td>\n",
       "      <td>Research Analytics and Big Data Manager</td>\n",
       "      <td>Oregon Health &amp; Science University</td>\n",
       "      <td>Portland</td>\n",
       "      <td>118343.0</td>\n",
       "    </tr>\n",
       "    <tr>\n",
       "      <td>530</td>\n",
       "      <td>BI Engineer, Azure Data Lake</td>\n",
       "      <td>BICP</td>\n",
       "      <td>Portland</td>\n",
       "      <td>115000.0</td>\n",
       "    </tr>\n",
       "  </tbody>\n",
       "</table>\n",
       "<p>531 rows × 4 columns</p>\n",
       "</div>"
      ],
      "text/plain": [
       "                                             job_title  \\\n",
       "0                                       Data Scientist   \n",
       "1                                       Data Scientist   \n",
       "2                                       Data Scientist   \n",
       "3    Special Assistant (working title: Research Dat...   \n",
       "4                                Senior Data Scientist   \n",
       "..                                                 ...   \n",
       "526               Hydrologist, GS-1315-11/12 (DEU-MTL)   \n",
       "527                               Research Assistant 2   \n",
       "528                CD2H Evaluator (Research Associate)   \n",
       "529            Research Analytics and Big Data Manager   \n",
       "530                       BI Engineer, Azure Data Lake   \n",
       "\n",
       "                                               company  location    salary  \n",
       "0    Research Foundation of The City University of ...  New York   85000.0  \n",
       "1           New York City DEPARTMENT OF TRANSPORTATION  New York   73873.5  \n",
       "2            New York City DEPARTMENT OF INVESTIGATION  New York   60172.0  \n",
       "3                                                  NaN  New York   64000.0  \n",
       "4                                MetroPlus Health Plan  New York  107500.0  \n",
       "..                                                 ...       ...       ...  \n",
       "526                      US Department of the Interior  Portland   87375.5  \n",
       "527                 Oregon Health & Science University  Portland   40284.0  \n",
       "528                 Oregon Health & Science University  Portland   53000.0  \n",
       "529                 Oregon Health & Science University  Portland  118343.0  \n",
       "530                                               BICP  Portland  115000.0  \n",
       "\n",
       "[531 rows x 4 columns]"
      ]
     },
     "execution_count": 9,
     "metadata": {},
     "output_type": "execute_result"
    }
   ],
   "source": [
    "clean"
   ]
  },
  {
   "cell_type": "markdown",
   "metadata": {
    "focus": false,
    "id": "c7631f51-07f2-4c79-a093-3e9bc7849a48"
   },
   "source": [
    "### We want to predict a binary variable - whether the salary was low or high. Compute the median salary and create a new binary variable that is true when the salary is high (above the median).\n",
    "\n",
    "We could also perform Linear Regression (or any regression) to predict the salary value here. Instead, we are going to convert this into a _binary_ classification problem, by predicting two classes, HIGH vs LOW salary.\n",
    "\n",
    "While performing regression may be better, performing classification may help remove some of the noise of the extreme salaries. We don't have to choose the `median` as the splitting point - we could also split on the 75th percentile or any other reasonable breaking point.\n",
    "\n",
    "In fact, the ideal scenario may be to predict many levels of salaries."
   ]
  },
  {
   "cell_type": "code",
   "execution_count": 10,
   "metadata": {
    "ExecuteTime": {
     "end_time": "2020-03-30T14:27:30.308242Z",
     "start_time": "2020-03-30T14:27:30.116040Z"
    }
   },
   "outputs": [],
   "source": [
    "import matplotlib.pyplot as plt"
   ]
  },
  {
   "cell_type": "code",
   "execution_count": 11,
   "metadata": {
    "ExecuteTime": {
     "end_time": "2020-03-30T14:27:30.561799Z",
     "start_time": "2020-03-30T14:27:30.311252Z"
    }
   },
   "outputs": [
    {
     "data": {
      "image/png": "[encoded data removed]",
      "text/plain": [
       "<Figure size 720x432 with 1 Axes>"
      ]
     },
     "metadata": {
      "needs_background": "light"
     },
     "output_type": "display_data"
    }
   ],
   "source": [
    "fig, ax = plt.subplots(figsize=(10, 6))\n",
    "plt.hist(clean.salary, bins=50)\n",
    "plt.vlines(clean.salary.median(), 0, 45, color='r')\n",
    "plt.vlines(clean.salary.mean(), 0, 45, color='g')\n",
    "plt.xlabel('Salary');"
   ]
  },
  {
   "cell_type": "code",
   "execution_count": 12,
   "metadata": {
    "ExecuteTime": {
     "end_time": "2020-03-30T14:27:30.575867Z",
     "start_time": "2020-03-30T14:27:30.568130Z"
    }
   },
   "outputs": [
    {
     "data": {
      "text/plain": [
       "95000.0"
      ]
     },
     "execution_count": 12,
     "metadata": {},
     "output_type": "execute_result"
    }
   ],
   "source": [
    "clean['salary'].median()"
   ]
  },
  {
   "cell_type": "code",
   "execution_count": 13,
   "metadata": {
    "ExecuteTime": {
     "end_time": "2020-03-30T14:27:30.651232Z",
     "start_time": "2020-03-30T14:27:30.580084Z"
    },
    "focus": false,
    "id": "c20d2498-151c-44c3-a453-3a333c79a0ac"
   },
   "outputs": [],
   "source": [
    "## YOUR CODE HERE\n",
    "#1 is HIGH , 0 is LOW\n",
    "clean['hilo']=[1 if x>= clean['salary'].median() else 0 for x in clean['salary']]"
   ]
  },
  {
   "cell_type": "code",
   "execution_count": 14,
   "metadata": {
    "ExecuteTime": {
     "end_time": "2020-03-30T14:27:30.676610Z",
     "start_time": "2020-03-30T14:27:30.666894Z"
    }
   },
   "outputs": [
    {
     "data": {
      "text/plain": [
       "(531, 5)"
      ]
     },
     "execution_count": 14,
     "metadata": {},
     "output_type": "execute_result"
    }
   ],
   "source": [
    "clean.shape"
   ]
  },
  {
   "cell_type": "markdown",
   "metadata": {
    "focus": false,
    "id": "a7afb2c0-d41e-4779-8216-91cd8dd4473f"
   },
   "source": [
    "#### Thought experiment: What is the baseline accuracy for this model?"
   ]
  },
  {
   "cell_type": "code",
   "execution_count": 15,
   "metadata": {
    "ExecuteTime": {
     "end_time": "2020-03-30T14:27:30.706166Z",
     "start_time": "2020-03-30T14:27:30.679962Z"
    },
    "focus": false,
    "id": "87a17d3d-b7f4-4747-9f75-f9af1d18a174"
   },
   "outputs": [
    {
     "data": {
      "text/plain": [
       "1    0.500942\n",
       "0    0.499058\n",
       "Name: hilo, dtype: float64"
      ]
     },
     "execution_count": 15,
     "metadata": {},
     "output_type": "execute_result"
    }
   ],
   "source": [
    "## YOUR CODE HERE\n",
    "clean['hilo'].value_counts(normalize=True)\n"
   ]
  },
  {
   "cell_type": "markdown",
   "metadata": {
    "focus": false,
    "id": "4fb29de2-5b98-474c-a4ad-5170b72b9aea"
   },
   "source": [
    "### Create a classification model to predict High/Low salary. \n",
    "\n",
    "\n",
    "- Start by ONLY using the location as a feature.\n",
    "- Use at least two different classifiers you find suitable.\n",
    "- Remember that scaling your features might be necessary.\n",
    "- Display the coefficients/feature importances and write a short summary of what they mean.\n",
    "- Create a few new variables in your dataframe to represent interesting features of a job title (e.g. whether 'Senior' or 'Manager' is in the title).\n",
    "- Incorporate other text features from the title or summary that you believe will predict the salary.\n",
    "- Then build new classification models including also those features. Do they add any value?\n",
    "- Tune your models by testing parameter ranges, regularization strengths, etc. Discuss how that affects your models.\n",
    "- Discuss model coefficients or feature importances as applicable."
   ]
  },
  {
   "cell_type": "markdown",
   "metadata": {},
   "source": [
    "## Dummifying & creating a Train,Test Split"
   ]
  },
  {
   "cell_type": "code",
   "execution_count": 16,
   "metadata": {
    "ExecuteTime": {
     "end_time": "2020-03-30T14:27:30.743573Z",
     "start_time": "2020-03-30T14:27:30.710048Z"
    }
   },
   "outputs": [],
   "source": [
    "## YOUR CODE HERE\n",
    "df=pd.get_dummies(clean,drop_first=True)"
   ]
  },
  {
   "cell_type": "code",
   "execution_count": 17,
   "metadata": {
    "ExecuteTime": {
     "end_time": "2020-03-30T14:27:30.803502Z",
     "start_time": "2020-03-30T14:27:30.759201Z"
    }
   },
   "outputs": [
    {
     "data": {
      "text/html": [
       "<div>\n",
       "<style scoped>\n",
       "    .dataframe tbody tr th:only-of-type {\n",
       "        vertical-align: middle;\n",
       "    }\n",
       "\n",
       "    .dataframe tbody tr th {\n",
       "        vertical-align: top;\n",
       "    }\n",
       "\n",
       "    .dataframe thead th {\n",
       "        text-align: right;\n",
       "    }\n",
       "</style>\n",
       "<table border=\"1\" class=\"dataframe\">\n",
       "  <thead>\n",
       "    <tr style=\"text-align: right;\">\n",
       "      <th></th>\n",
       "      <th>salary</th>\n",
       "      <th>hilo</th>\n",
       "      <th>job_title_AVP, Big Data Engineer</th>\n",
       "      <th>job_title_AVP, Senior Data Engineer</th>\n",
       "      <th>job_title_AVP, Technical Data Engineer Lead</th>\n",
       "      <th>job_title_Adjunct Professors in Business Analytics, FinTech, AI, DevOp...</th>\n",
       "      <th>job_title_Analysis and Reporting Analyst</th>\n",
       "      <th>job_title_Analyst - Assessment &amp; Research G05-G07</th>\n",
       "      <th>job_title_Analyst I/II, Data Science</th>\n",
       "      <th>job_title_Analyst I/II- Department of Finance (Debt Management)</th>\n",
       "      <th>...</th>\n",
       "      <th>location_New York</th>\n",
       "      <th>location_Philadelphia</th>\n",
       "      <th>location_Phoenix</th>\n",
       "      <th>location_Portland</th>\n",
       "      <th>location_San Antonio</th>\n",
       "      <th>location_San Diego</th>\n",
       "      <th>location_San Francisco</th>\n",
       "      <th>location_San Jose</th>\n",
       "      <th>location_Seattle</th>\n",
       "      <th>location_Washington</th>\n",
       "    </tr>\n",
       "  </thead>\n",
       "  <tbody>\n",
       "    <tr>\n",
       "      <td>0</td>\n",
       "      <td>85000.0</td>\n",
       "      <td>0</td>\n",
       "      <td>0</td>\n",
       "      <td>0</td>\n",
       "      <td>0</td>\n",
       "      <td>0</td>\n",
       "      <td>0</td>\n",
       "      <td>0</td>\n",
       "      <td>0</td>\n",
       "      <td>0</td>\n",
       "      <td>...</td>\n",
       "      <td>1</td>\n",
       "      <td>0</td>\n",
       "      <td>0</td>\n",
       "      <td>0</td>\n",
       "      <td>0</td>\n",
       "      <td>0</td>\n",
       "      <td>0</td>\n",
       "      <td>0</td>\n",
       "      <td>0</td>\n",
       "      <td>0</td>\n",
       "    </tr>\n",
       "    <tr>\n",
       "      <td>1</td>\n",
       "      <td>73873.5</td>\n",
       "      <td>0</td>\n",
       "      <td>0</td>\n",
       "      <td>0</td>\n",
       "      <td>0</td>\n",
       "      <td>0</td>\n",
       "      <td>0</td>\n",
       "      <td>0</td>\n",
       "      <td>0</td>\n",
       "      <td>0</td>\n",
       "      <td>...</td>\n",
       "      <td>1</td>\n",
       "      <td>0</td>\n",
       "      <td>0</td>\n",
       "      <td>0</td>\n",
       "      <td>0</td>\n",
       "      <td>0</td>\n",
       "      <td>0</td>\n",
       "      <td>0</td>\n",
       "      <td>0</td>\n",
       "      <td>0</td>\n",
       "    </tr>\n",
       "    <tr>\n",
       "      <td>2</td>\n",
       "      <td>60172.0</td>\n",
       "      <td>0</td>\n",
       "      <td>0</td>\n",
       "      <td>0</td>\n",
       "      <td>0</td>\n",
       "      <td>0</td>\n",
       "      <td>0</td>\n",
       "      <td>0</td>\n",
       "      <td>0</td>\n",
       "      <td>0</td>\n",
       "      <td>...</td>\n",
       "      <td>1</td>\n",
       "      <td>0</td>\n",
       "      <td>0</td>\n",
       "      <td>0</td>\n",
       "      <td>0</td>\n",
       "      <td>0</td>\n",
       "      <td>0</td>\n",
       "      <td>0</td>\n",
       "      <td>0</td>\n",
       "      <td>0</td>\n",
       "    </tr>\n",
       "    <tr>\n",
       "      <td>3</td>\n",
       "      <td>64000.0</td>\n",
       "      <td>0</td>\n",
       "      <td>0</td>\n",
       "      <td>0</td>\n",
       "      <td>0</td>\n",
       "      <td>0</td>\n",
       "      <td>0</td>\n",
       "      <td>0</td>\n",
       "      <td>0</td>\n",
       "      <td>0</td>\n",
       "      <td>...</td>\n",
       "      <td>1</td>\n",
       "      <td>0</td>\n",
       "      <td>0</td>\n",
       "      <td>0</td>\n",
       "      <td>0</td>\n",
       "      <td>0</td>\n",
       "      <td>0</td>\n",
       "      <td>0</td>\n",
       "      <td>0</td>\n",
       "      <td>0</td>\n",
       "    </tr>\n",
       "    <tr>\n",
       "      <td>4</td>\n",
       "      <td>107500.0</td>\n",
       "      <td>1</td>\n",
       "      <td>0</td>\n",
       "      <td>0</td>\n",
       "      <td>0</td>\n",
       "      <td>0</td>\n",
       "      <td>0</td>\n",
       "      <td>0</td>\n",
       "      <td>0</td>\n",
       "      <td>0</td>\n",
       "      <td>...</td>\n",
       "      <td>1</td>\n",
       "      <td>0</td>\n",
       "      <td>0</td>\n",
       "      <td>0</td>\n",
       "      <td>0</td>\n",
       "      <td>0</td>\n",
       "      <td>0</td>\n",
       "      <td>0</td>\n",
       "      <td>0</td>\n",
       "      <td>0</td>\n",
       "    </tr>\n",
       "  </tbody>\n",
       "</table>\n",
       "<p>5 rows × 583 columns</p>\n",
       "</div>"
      ],
      "text/plain": [
       "     salary  hilo  job_title_AVP, Big Data Engineer  \\\n",
       "0   85000.0     0                                 0   \n",
       "1   73873.5     0                                 0   \n",
       "2   60172.0     0                                 0   \n",
       "3   64000.0     0                                 0   \n",
       "4  107500.0     1                                 0   \n",
       "\n",
       "   job_title_AVP, Senior Data Engineer  \\\n",
       "0                                    0   \n",
       "1                                    0   \n",
       "2                                    0   \n",
       "3                                    0   \n",
       "4                                    0   \n",
       "\n",
       "   job_title_AVP, Technical Data Engineer Lead  \\\n",
       "0                                            0   \n",
       "1                                            0   \n",
       "2                                            0   \n",
       "3                                            0   \n",
       "4                                            0   \n",
       "\n",
       "   job_title_Adjunct Professors in Business Analytics, FinTech, AI, DevOp...  \\\n",
       "0                                                  0                           \n",
       "1                                                  0                           \n",
       "2                                                  0                           \n",
       "3                                                  0                           \n",
       "4                                                  0                           \n",
       "\n",
       "   job_title_Analysis and Reporting Analyst  \\\n",
       "0                                         0   \n",
       "1                                         0   \n",
       "2                                         0   \n",
       "3                                         0   \n",
       "4                                         0   \n",
       "\n",
       "   job_title_Analyst - Assessment & Research G05-G07  \\\n",
       "0                                                  0   \n",
       "1                                                  0   \n",
       "2                                                  0   \n",
       "3                                                  0   \n",
       "4                                                  0   \n",
       "\n",
       "   job_title_Analyst I/II, Data Science  \\\n",
       "0                                     0   \n",
       "1                                     0   \n",
       "2                                     0   \n",
       "3                                     0   \n",
       "4                                     0   \n",
       "\n",
       "   job_title_Analyst I/II- Department of Finance (Debt Management)  ...  \\\n",
       "0                                                  0                ...   \n",
       "1                                                  0                ...   \n",
       "2                                                  0                ...   \n",
       "3                                                  0                ...   \n",
       "4                                                  0                ...   \n",
       "\n",
       "   location_New York  location_Philadelphia  location_Phoenix  \\\n",
       "0                  1                      0                 0   \n",
       "1                  1                      0                 0   \n",
       "2                  1                      0                 0   \n",
       "3                  1                      0                 0   \n",
       "4                  1                      0                 0   \n",
       "\n",
       "   location_Portland  location_San Antonio  location_San Diego  \\\n",
       "0                  0                     0                   0   \n",
       "1                  0                     0                   0   \n",
       "2                  0                     0                   0   \n",
       "3                  0                     0                   0   \n",
       "4                  0                     0                   0   \n",
       "\n",
       "   location_San Francisco  location_San Jose  location_Seattle  \\\n",
       "0                       0                  0                 0   \n",
       "1                       0                  0                 0   \n",
       "2                       0                  0                 0   \n",
       "3                       0                  0                 0   \n",
       "4                       0                  0                 0   \n",
       "\n",
       "   location_Washington  \n",
       "0                    0  \n",
       "1                    0  \n",
       "2                    0  \n",
       "3                    0  \n",
       "4                    0  \n",
       "\n",
       "[5 rows x 583 columns]"
      ]
     },
     "execution_count": 17,
     "metadata": {},
     "output_type": "execute_result"
    }
   ],
   "source": [
    "df.head()"
   ]
  },
  {
   "cell_type": "code",
   "execution_count": 18,
   "metadata": {
    "ExecuteTime": {
     "end_time": "2020-03-30T14:27:31.451314Z",
     "start_time": "2020-03-30T14:27:30.812868Z"
    }
   },
   "outputs": [],
   "source": [
    "from sklearn.linear_model import LogisticRegression\n",
    "from sklearn.preprocessing import StandardScaler\n",
    "from sklearn.model_selection import GridSearchCV\n",
    "from sklearn import preprocessing"
   ]
  },
  {
   "cell_type": "code",
   "execution_count": 19,
   "metadata": {
    "ExecuteTime": {
     "end_time": "2020-03-30T14:27:31.514162Z",
     "start_time": "2020-03-30T14:27:31.457115Z"
    }
   },
   "outputs": [],
   "source": [
    "X=df.T[df.columns.str.contains('location')==True].T\n",
    "X=X.applymap(lambda x: int(x))\n",
    "y=df['hilo']\n",
    "\n",
    "\n",
    "X_train,X_test,y_train,y_test=train_test_split(X,y,test_size=0.2,random_state=1)\n"
   ]
  },
  {
   "cell_type": "markdown",
   "metadata": {},
   "source": [
    "## Logistic Regression"
   ]
  },
  {
   "cell_type": "code",
   "execution_count": 20,
   "metadata": {
    "ExecuteTime": {
     "end_time": "2020-03-30T14:27:36.918474Z",
     "start_time": "2020-03-30T14:27:31.520361Z"
    }
   },
   "outputs": [
    {
     "name": "stderr",
     "output_type": "stream",
     "text": [
      "/Users/Huski/opt/anaconda3/lib/python3.7/site-packages/sklearn/model_selection/_search.py:814: DeprecationWarning: The default of the `iid` parameter will change from True to False in version 0.22 and will be removed in 0.24. This will change numeric results when test-set sizes are unequal.\n",
      "  DeprecationWarning)\n"
     ]
    },
    {
     "data": {
      "text/plain": [
       "GridSearchCV(cv=5, error_score='raise-deprecating',\n",
       "             estimator=LogisticRegression(C=1.0, class_weight=None, dual=False,\n",
       "                                          fit_intercept=True,\n",
       "                                          intercept_scaling=1, l1_ratio=None,\n",
       "                                          max_iter=100, multi_class='warn',\n",
       "                                          n_jobs=None, penalty='l2',\n",
       "                                          random_state=None, solver='warn',\n",
       "                                          tol=0.0001, verbose=0,\n",
       "                                          warm_start=False),\n",
       "             iid='warn', n_jobs=2,\n",
       "             param_grid={'C': array([1.00000000e-03, 4.64158883e-03, 2.15443469e-02, 1.00000000e-01,\n",
       "       4.64158883e-01, 2.15443469e+00, 1.00000000e+01, 4.64158883e+01,\n",
       "       2.15443469e+02, 1.00000000e+03]),\n",
       "                         'max_iter': [100, 250, 500], 'penalty': ['l2'],\n",
       "                         'solver': ['lbfgs']},\n",
       "             pre_dispatch='2*n_jobs', refit=True, return_train_score=False,\n",
       "             scoring=None, verbose=0)"
      ]
     },
     "execution_count": 20,
     "metadata": {},
     "output_type": "execute_result"
    }
   ],
   "source": [
    "lr = LogisticRegression()\n",
    "\n",
    "gs_params={'penalty': ['l2'],\n",
    "          'solver':['lbfgs'],\n",
    "          'C':np.logspace(-3,3,10),\n",
    "          'max_iter':[100,250,500]}\n",
    "\n",
    "lr_GridSearchCV = GridSearchCV(lr,param_grid=gs_params,n_jobs=2,cv=5,verbose=0)\n",
    "\n",
    "lr_GridSearchCV.fit(X_train,y_train)"
   ]
  },
  {
   "cell_type": "code",
   "execution_count": 21,
   "metadata": {
    "ExecuteTime": {
     "end_time": "2020-03-30T14:27:36.934786Z",
     "start_time": "2020-03-30T14:27:36.921723Z"
    }
   },
   "outputs": [
    {
     "name": "stdout",
     "output_type": "stream",
     "text": [
      "Best Parameters: {'C': 0.1, 'max_iter': 100, 'penalty': 'l2', 'solver': 'lbfgs'}\n",
      "Best Score: 0.6580188679245284\n",
      "Best Training Score: 0.6721698113207547\n",
      "Best Test Score: 0.6355140186915887\n"
     ]
    }
   ],
   "source": [
    "print('Best Parameters:',lr_GridSearchCV.best_params_)\n",
    "print('Best Score:',lr_GridSearchCV.best_score_)\n",
    "print('Best Training Score:',lr_GridSearchCV.score(X_train,y_train))\n",
    "print('Best Test Score:', lr_GridSearchCV.score(X_test,y_test))"
   ]
  },
  {
   "cell_type": "code",
   "execution_count": 22,
   "metadata": {
    "ExecuteTime": {
     "end_time": "2020-03-30T14:27:36.979588Z",
     "start_time": "2020-03-30T14:27:36.939815Z"
    }
   },
   "outputs": [
    {
     "data": {
      "text/plain": [
       "LogisticRegression(C=10000000000, class_weight=None, dual=False,\n",
       "                   fit_intercept=True, intercept_scaling=1, l1_ratio=None,\n",
       "                   max_iter=100, multi_class='warn', n_jobs=None, penalty='l2',\n",
       "                   random_state=None, solver='lbfgs', tol=0.0001, verbose=0,\n",
       "                   warm_start=False)"
      ]
     },
     "execution_count": 22,
     "metadata": {},
     "output_type": "execute_result"
    }
   ],
   "source": [
    "lr= LogisticRegression(penalty='l2',solver='lbfgs',C=10**10,max_iter=100)\n",
    "\n",
    "lr.fit(X_train,y_train)"
   ]
  },
  {
   "cell_type": "code",
   "execution_count": 23,
   "metadata": {
    "ExecuteTime": {
     "end_time": "2020-03-30T14:27:36.992186Z",
     "start_time": "2020-03-30T14:27:36.983863Z"
    }
   },
   "outputs": [],
   "source": [
    "lr_coef = pd.DataFrame(lr.coef_,columns=X_train.columns).T\n",
    "lr_coef.columns = ['coefficient']\n",
    "lr_coef = lr_coef.sort_values(by='coefficient',axis=0,ascending=False)"
   ]
  },
  {
   "cell_type": "code",
   "execution_count": 24,
   "metadata": {
    "ExecuteTime": {
     "end_time": "2020-03-30T14:27:37.009303Z",
     "start_time": "2020-03-30T14:27:36.997446Z"
    },
    "scrolled": false
   },
   "outputs": [
    {
     "data": {
      "text/html": [
       "<div>\n",
       "<style scoped>\n",
       "    .dataframe tbody tr th:only-of-type {\n",
       "        vertical-align: middle;\n",
       "    }\n",
       "\n",
       "    .dataframe tbody tr th {\n",
       "        vertical-align: top;\n",
       "    }\n",
       "\n",
       "    .dataframe thead th {\n",
       "        text-align: right;\n",
       "    }\n",
       "</style>\n",
       "<table border=\"1\" class=\"dataframe\">\n",
       "  <thead>\n",
       "    <tr style=\"text-align: right;\">\n",
       "      <th></th>\n",
       "      <th>coefficient</th>\n",
       "    </tr>\n",
       "  </thead>\n",
       "  <tbody>\n",
       "    <tr>\n",
       "      <td>location_Philadelphia</td>\n",
       "      <td>1.859921</td>\n",
       "    </tr>\n",
       "    <tr>\n",
       "      <td>location_San Francisco</td>\n",
       "      <td>1.637070</td>\n",
       "    </tr>\n",
       "    <tr>\n",
       "      <td>location_San Jose</td>\n",
       "      <td>1.636770</td>\n",
       "    </tr>\n",
       "    <tr>\n",
       "      <td>location_Los Angeles</td>\n",
       "      <td>0.988340</td>\n",
       "    </tr>\n",
       "    <tr>\n",
       "      <td>location_Chicago</td>\n",
       "      <td>0.892592</td>\n",
       "    </tr>\n",
       "  </tbody>\n",
       "</table>\n",
       "</div>"
      ],
      "text/plain": [
       "                        coefficient\n",
       "location_Philadelphia      1.859921\n",
       "location_San Francisco     1.637070\n",
       "location_San Jose          1.636770\n",
       "location_Los Angeles       0.988340\n",
       "location_Chicago           0.892592"
      ]
     },
     "execution_count": 24,
     "metadata": {},
     "output_type": "execute_result"
    }
   ],
   "source": [
    "#Coefficients represents the correlation between a high or low correlation and the cities .\n",
    "#I.e. Philadelphia, San Fran, San Jose seems to have high average salaries for any of the data roles\n",
    "#     Whereas El Paso, Phoenix and Columbus seem to have low average salaries.\n",
    "# 'High' or 'Low' is defined by over or below the median salary.\n",
    "# NOTE: Reason for El paso being incredibly low is probably due to the fact that there was only 1 Datapoint.\n",
    "#       Phoenix and Columbus seems like they have a few.\n",
    "lr_coef.head()"
   ]
  },
  {
   "cell_type": "code",
   "execution_count": 25,
   "metadata": {
    "ExecuteTime": {
     "end_time": "2020-03-30T14:27:37.037884Z",
     "start_time": "2020-03-30T14:27:37.013157Z"
    }
   },
   "outputs": [
    {
     "data": {
      "text/html": [
       "<div>\n",
       "<style scoped>\n",
       "    .dataframe tbody tr th:only-of-type {\n",
       "        vertical-align: middle;\n",
       "    }\n",
       "\n",
       "    .dataframe tbody tr th {\n",
       "        vertical-align: top;\n",
       "    }\n",
       "\n",
       "    .dataframe thead th {\n",
       "        text-align: right;\n",
       "    }\n",
       "</style>\n",
       "<table border=\"1\" class=\"dataframe\">\n",
       "  <thead>\n",
       "    <tr style=\"text-align: right;\">\n",
       "      <th></th>\n",
       "      <th>job_title</th>\n",
       "      <th>company</th>\n",
       "      <th>location</th>\n",
       "      <th>salary</th>\n",
       "      <th>hilo</th>\n",
       "    </tr>\n",
       "  </thead>\n",
       "  <tbody>\n",
       "    <tr>\n",
       "      <td>178</td>\n",
       "      <td>Statistician</td>\n",
       "      <td>US Department of Health And Human Services</td>\n",
       "      <td>Phoenix</td>\n",
       "      <td>84819.5</td>\n",
       "      <td>0</td>\n",
       "    </tr>\n",
       "    <tr>\n",
       "      <td>179</td>\n",
       "      <td>Data Architect</td>\n",
       "      <td>Arizona State University</td>\n",
       "      <td>Phoenix</td>\n",
       "      <td>150000.0</td>\n",
       "      <td>1</td>\n",
       "    </tr>\n",
       "    <tr>\n",
       "      <td>180</td>\n",
       "      <td>HRIS Data Analyst Senior</td>\n",
       "      <td>Maricopa Community Colleges</td>\n",
       "      <td>Phoenix</td>\n",
       "      <td>88847.0</td>\n",
       "      <td>0</td>\n",
       "    </tr>\n",
       "    <tr>\n",
       "      <td>181</td>\n",
       "      <td>Data Engineer / Java</td>\n",
       "      <td>Jobspring</td>\n",
       "      <td>Phoenix</td>\n",
       "      <td>100000.0</td>\n",
       "      <td>1</td>\n",
       "    </tr>\n",
       "    <tr>\n",
       "      <td>182</td>\n",
       "      <td>Business Data Analyst</td>\n",
       "      <td>Maricopa County, AZ</td>\n",
       "      <td>Phoenix</td>\n",
       "      <td>63783.0</td>\n",
       "      <td>0</td>\n",
       "    </tr>\n",
       "    <tr>\n",
       "      <td>183</td>\n",
       "      <td>Healthcare Data Analyst</td>\n",
       "      <td>State of Arizona</td>\n",
       "      <td>Phoenix</td>\n",
       "      <td>60000.0</td>\n",
       "      <td>0</td>\n",
       "    </tr>\n",
       "    <tr>\n",
       "      <td>184</td>\n",
       "      <td>Management and Program Analyst</td>\n",
       "      <td>US Department of the Interior</td>\n",
       "      <td>Phoenix</td>\n",
       "      <td>58028.0</td>\n",
       "      <td>0</td>\n",
       "    </tr>\n",
       "    <tr>\n",
       "      <td>185</td>\n",
       "      <td>Planning and Research Analyst</td>\n",
       "      <td>Maricopa Community Colleges</td>\n",
       "      <td>Phoenix</td>\n",
       "      <td>59960.0</td>\n",
       "      <td>0</td>\n",
       "    </tr>\n",
       "    <tr>\n",
       "      <td>186</td>\n",
       "      <td>SENIOR BUSINESS ANALYST</td>\n",
       "      <td>State of Arizona</td>\n",
       "      <td>Phoenix</td>\n",
       "      <td>70720.0</td>\n",
       "      <td>0</td>\n",
       "    </tr>\n",
       "    <tr>\n",
       "      <td>187</td>\n",
       "      <td>Business Data Analyst</td>\n",
       "      <td>CRS Temporary Housing</td>\n",
       "      <td>Phoenix</td>\n",
       "      <td>50000.0</td>\n",
       "      <td>0</td>\n",
       "    </tr>\n",
       "    <tr>\n",
       "      <td>188</td>\n",
       "      <td>BUSINESS ANALYST</td>\n",
       "      <td>State of Arizona</td>\n",
       "      <td>Phoenix</td>\n",
       "      <td>77500.0</td>\n",
       "      <td>0</td>\n",
       "    </tr>\n",
       "    <tr>\n",
       "      <td>189</td>\n",
       "      <td>Budget and Finance Analyst</td>\n",
       "      <td>City of Glendale, AZ</td>\n",
       "      <td>Phoenix</td>\n",
       "      <td>78885.0</td>\n",
       "      <td>0</td>\n",
       "    </tr>\n",
       "    <tr>\n",
       "      <td>190</td>\n",
       "      <td>Researcher Data Analyst Specialist VII (Job 2371)</td>\n",
       "      <td>Arizona Supreme Court</td>\n",
       "      <td>Phoenix</td>\n",
       "      <td>64175.0</td>\n",
       "      <td>0</td>\n",
       "    </tr>\n",
       "    <tr>\n",
       "      <td>191</td>\n",
       "      <td>Data Analyst</td>\n",
       "      <td>Education At Work</td>\n",
       "      <td>Phoenix</td>\n",
       "      <td>40000.0</td>\n",
       "      <td>0</td>\n",
       "    </tr>\n",
       "    <tr>\n",
       "      <td>192</td>\n",
       "      <td>Jr. SQL Developer</td>\n",
       "      <td>NaN</td>\n",
       "      <td>Phoenix</td>\n",
       "      <td>65000.0</td>\n",
       "      <td>0</td>\n",
       "    </tr>\n",
       "    <tr>\n",
       "      <td>193</td>\n",
       "      <td>Data Content Specialist</td>\n",
       "      <td>NaN</td>\n",
       "      <td>Phoenix</td>\n",
       "      <td>50000.0</td>\n",
       "      <td>0</td>\n",
       "    </tr>\n",
       "    <tr>\n",
       "      <td>194</td>\n",
       "      <td>Copywriter and Social Media Strategist</td>\n",
       "      <td>NaN</td>\n",
       "      <td>Phoenix</td>\n",
       "      <td>50000.0</td>\n",
       "      <td>0</td>\n",
       "    </tr>\n",
       "    <tr>\n",
       "      <td>195</td>\n",
       "      <td>Partner Success Associate</td>\n",
       "      <td>WanderJaunt</td>\n",
       "      <td>Phoenix</td>\n",
       "      <td>45000.0</td>\n",
       "      <td>0</td>\n",
       "    </tr>\n",
       "    <tr>\n",
       "      <td>305</td>\n",
       "      <td>Data Scientist</td>\n",
       "      <td>NaN</td>\n",
       "      <td>Columbus</td>\n",
       "      <td>85000.0</td>\n",
       "      <td>0</td>\n",
       "    </tr>\n",
       "    <tr>\n",
       "      <td>306</td>\n",
       "      <td>Senior Data Scientist</td>\n",
       "      <td>NaN</td>\n",
       "      <td>Columbus</td>\n",
       "      <td>101000.0</td>\n",
       "      <td>1</td>\n",
       "    </tr>\n",
       "    <tr>\n",
       "      <td>307</td>\n",
       "      <td>Senior Data Engineer</td>\n",
       "      <td>NaN</td>\n",
       "      <td>Columbus</td>\n",
       "      <td>101000.0</td>\n",
       "      <td>1</td>\n",
       "    </tr>\n",
       "    <tr>\n",
       "      <td>308</td>\n",
       "      <td>Data Engineer</td>\n",
       "      <td>NaN</td>\n",
       "      <td>Columbus</td>\n",
       "      <td>60000.0</td>\n",
       "      <td>0</td>\n",
       "    </tr>\n",
       "    <tr>\n",
       "      <td>309</td>\n",
       "      <td>Data Analytics Specialist</td>\n",
       "      <td>ALDI</td>\n",
       "      <td>Columbus</td>\n",
       "      <td>62000.0</td>\n",
       "      <td>0</td>\n",
       "    </tr>\n",
       "    <tr>\n",
       "      <td>310</td>\n",
       "      <td>Business Analyst</td>\n",
       "      <td>US Department of Defense</td>\n",
       "      <td>Columbus</td>\n",
       "      <td>91328.0</td>\n",
       "      <td>0</td>\n",
       "    </tr>\n",
       "    <tr>\n",
       "      <td>311</td>\n",
       "      <td>Annual Giving Data Analyst</td>\n",
       "      <td>The Ohio State University</td>\n",
       "      <td>Columbus</td>\n",
       "      <td>57500.0</td>\n",
       "      <td>0</td>\n",
       "    </tr>\n",
       "    <tr>\n",
       "      <td>312</td>\n",
       "      <td>Data Analytics Consultant</td>\n",
       "      <td>The Ohio State University</td>\n",
       "      <td>Columbus</td>\n",
       "      <td>70000.0</td>\n",
       "      <td>0</td>\n",
       "    </tr>\n",
       "    <tr>\n",
       "      <td>313</td>\n",
       "      <td>Sr. Business Analyst</td>\n",
       "      <td>NaN</td>\n",
       "      <td>Columbus</td>\n",
       "      <td>103834.0</td>\n",
       "      <td>1</td>\n",
       "    </tr>\n",
       "    <tr>\n",
       "      <td>314</td>\n",
       "      <td>Soil Scientist (Direct Hire)</td>\n",
       "      <td>US Department of Agriculture</td>\n",
       "      <td>Columbus</td>\n",
       "      <td>52064.0</td>\n",
       "      <td>0</td>\n",
       "    </tr>\n",
       "    <tr>\n",
       "      <td>315</td>\n",
       "      <td>Hydrologic Technician</td>\n",
       "      <td>US Department of Agriculture</td>\n",
       "      <td>Columbus</td>\n",
       "      <td>60385.5</td>\n",
       "      <td>0</td>\n",
       "    </tr>\n",
       "    <tr>\n",
       "      <td>316</td>\n",
       "      <td>Post Doctoral Researcher</td>\n",
       "      <td>The Ohio State University</td>\n",
       "      <td>Columbus</td>\n",
       "      <td>51500.0</td>\n",
       "      <td>0</td>\n",
       "    </tr>\n",
       "    <tr>\n",
       "      <td>514</td>\n",
       "      <td>Business Analyst</td>\n",
       "      <td>Border International</td>\n",
       "      <td>El Paso</td>\n",
       "      <td>45000.0</td>\n",
       "      <td>0</td>\n",
       "    </tr>\n",
       "  </tbody>\n",
       "</table>\n",
       "</div>"
      ],
      "text/plain": [
       "                                             job_title  \\\n",
       "178                                       Statistician   \n",
       "179                                     Data Architect   \n",
       "180                           HRIS Data Analyst Senior   \n",
       "181                               Data Engineer / Java   \n",
       "182                              Business Data Analyst   \n",
       "183                            Healthcare Data Analyst   \n",
       "184                     Management and Program Analyst   \n",
       "185                      Planning and Research Analyst   \n",
       "186                            SENIOR BUSINESS ANALYST   \n",
       "187                              Business Data Analyst   \n",
       "188                                   BUSINESS ANALYST   \n",
       "189                         Budget and Finance Analyst   \n",
       "190  Researcher Data Analyst Specialist VII (Job 2371)   \n",
       "191                                       Data Analyst   \n",
       "192                                  Jr. SQL Developer   \n",
       "193                            Data Content Specialist   \n",
       "194             Copywriter and Social Media Strategist   \n",
       "195                          Partner Success Associate   \n",
       "305                                     Data Scientist   \n",
       "306                              Senior Data Scientist   \n",
       "307                               Senior Data Engineer   \n",
       "308                                      Data Engineer   \n",
       "309                          Data Analytics Specialist   \n",
       "310                                   Business Analyst   \n",
       "311                         Annual Giving Data Analyst   \n",
       "312                          Data Analytics Consultant   \n",
       "313                               Sr. Business Analyst   \n",
       "314                       Soil Scientist (Direct Hire)   \n",
       "315                              Hydrologic Technician   \n",
       "316                           Post Doctoral Researcher   \n",
       "514                                   Business Analyst   \n",
       "\n",
       "                                        company  location    salary  hilo  \n",
       "178  US Department of Health And Human Services   Phoenix   84819.5     0  \n",
       "179                    Arizona State University   Phoenix  150000.0     1  \n",
       "180                 Maricopa Community Colleges   Phoenix   88847.0     0  \n",
       "181                                   Jobspring   Phoenix  100000.0     1  \n",
       "182                         Maricopa County, AZ   Phoenix   63783.0     0  \n",
       "183                            State of Arizona   Phoenix   60000.0     0  \n",
       "184               US Department of the Interior   Phoenix   58028.0     0  \n",
       "185                 Maricopa Community Colleges   Phoenix   59960.0     0  \n",
       "186                            State of Arizona   Phoenix   70720.0     0  \n",
       "187                       CRS Temporary Housing   Phoenix   50000.0     0  \n",
       "188                            State of Arizona   Phoenix   77500.0     0  \n",
       "189                        City of Glendale, AZ   Phoenix   78885.0     0  \n",
       "190                       Arizona Supreme Court   Phoenix   64175.0     0  \n",
       "191                           Education At Work   Phoenix   40000.0     0  \n",
       "192                                         NaN   Phoenix   65000.0     0  \n",
       "193                                         NaN   Phoenix   50000.0     0  \n",
       "194                                         NaN   Phoenix   50000.0     0  \n",
       "195                                 WanderJaunt   Phoenix   45000.0     0  \n",
       "305                                         NaN  Columbus   85000.0     0  \n",
       "306                                         NaN  Columbus  101000.0     1  \n",
       "307                                         NaN  Columbus  101000.0     1  \n",
       "308                                         NaN  Columbus   60000.0     0  \n",
       "309                                        ALDI  Columbus   62000.0     0  \n",
       "310                    US Department of Defense  Columbus   91328.0     0  \n",
       "311                   The Ohio State University  Columbus   57500.0     0  \n",
       "312                   The Ohio State University  Columbus   70000.0     0  \n",
       "313                                         NaN  Columbus  103834.0     1  \n",
       "314                US Department of Agriculture  Columbus   52064.0     0  \n",
       "315                US Department of Agriculture  Columbus   60385.5     0  \n",
       "316                   The Ohio State University  Columbus   51500.0     0  \n",
       "514                        Border International   El Paso   45000.0     0  "
      ]
     },
     "execution_count": 25,
     "metadata": {},
     "output_type": "execute_result"
    }
   ],
   "source": [
    "#Just having a look at the bottom 3 corrs, to check if there are any absurdities.\n",
    "clean[(clean['location']=='El Paso') | (clean['location']=='Phoenix') | (clean['location']=='Columbus') ]"
   ]
  },
  {
   "cell_type": "markdown",
   "metadata": {},
   "source": [
    "## Decision Tree Classifier"
   ]
  },
  {
   "cell_type": "code",
   "execution_count": 26,
   "metadata": {
    "ExecuteTime": {
     "end_time": "2020-03-30T14:27:37.588239Z",
     "start_time": "2020-03-30T14:27:37.041427Z"
    }
   },
   "outputs": [],
   "source": [
    "from sklearn.tree import DecisionTreeClassifier, DecisionTreeRegressor"
   ]
  },
  {
   "cell_type": "code",
   "execution_count": 27,
   "metadata": {
    "ExecuteTime": {
     "end_time": "2020-03-30T14:27:37.599756Z",
     "start_time": "2020-03-30T14:27:37.592444Z"
    }
   },
   "outputs": [],
   "source": [
    "dt= DecisionTreeClassifier()\n",
    "dtc_params={\n",
    "            'max_depth': [None]+ list(range(1,25)),\n",
    "            'min_samples_split':[2,3,4,5,10,15,20,25,30,40,50],           \n",
    "}\n",
    "dtc_gs = GridSearchCV(dt,dtc_params,cv=5,n_jobs=2,verbose=0)"
   ]
  },
  {
   "cell_type": "code",
   "execution_count": 28,
   "metadata": {
    "ExecuteTime": {
     "end_time": "2020-03-30T14:27:40.940690Z",
     "start_time": "2020-03-30T14:27:37.604011Z"
    }
   },
   "outputs": [
    {
     "data": {
      "text/plain": [
       "GridSearchCV(cv=5, error_score='raise-deprecating',\n",
       "             estimator=DecisionTreeClassifier(class_weight=None,\n",
       "                                              criterion='gini', max_depth=None,\n",
       "                                              max_features=None,\n",
       "                                              max_leaf_nodes=None,\n",
       "                                              min_impurity_decrease=0.0,\n",
       "                                              min_impurity_split=None,\n",
       "                                              min_samples_leaf=1,\n",
       "                                              min_samples_split=2,\n",
       "                                              min_weight_fraction_leaf=0.0,\n",
       "                                              presort=False, random_state=None,\n",
       "                                              splitter='best'),\n",
       "             iid='warn', n_jobs=2,\n",
       "             param_grid={'max_depth': [None, 1, 2, 3, 4, 5, 6, 7, 8, 9, 10, 11,\n",
       "                                       12, 13, 14, 15, 16, 17, 18, 19, 20, 21,\n",
       "                                       22, 23, 24],\n",
       "                         'min_samples_split': [2, 3, 4, 5, 10, 15, 20, 25, 30,\n",
       "                                               40, 50]},\n",
       "             pre_dispatch='2*n_jobs', refit=True, return_train_score=False,\n",
       "             scoring=None, verbose=0)"
      ]
     },
     "execution_count": 28,
     "metadata": {},
     "output_type": "execute_result"
    }
   ],
   "source": [
    "dtc_gs.fit(X_train,y_train)"
   ]
  },
  {
   "cell_type": "code",
   "execution_count": 29,
   "metadata": {
    "ExecuteTime": {
     "end_time": "2020-03-30T14:27:40.949624Z",
     "start_time": "2020-03-30T14:27:40.944346Z"
    }
   },
   "outputs": [
    {
     "name": "stdout",
     "output_type": "stream",
     "text": [
      "{'max_depth': 7, 'min_samples_split': 2}\n",
      "0.6556603773584906\n"
     ]
    }
   ],
   "source": [
    "dtc_best = dtc_gs.best_estimator_\n",
    "print(dtc_gs.best_params_)\n",
    "print(dtc_gs.best_score_)"
   ]
  },
  {
   "cell_type": "code",
   "execution_count": 30,
   "metadata": {
    "ExecuteTime": {
     "end_time": "2020-03-30T14:27:40.961861Z",
     "start_time": "2020-03-30T14:27:40.952945Z"
    }
   },
   "outputs": [],
   "source": [
    "feature_importances = pd.DataFrame({'feature':X_train.columns,\n",
    "                                    'importance': dtc_best.feature_importances_})\n",
    "feature_importances.sort_values('importance',ascending=True,inplace=True)"
   ]
  },
  {
   "cell_type": "code",
   "execution_count": 31,
   "metadata": {
    "ExecuteTime": {
     "end_time": "2020-03-30T14:27:40.977621Z",
     "start_time": "2020-03-30T14:27:40.965496Z"
    }
   },
   "outputs": [
    {
     "data": {
      "text/html": [
       "<div>\n",
       "<style scoped>\n",
       "    .dataframe tbody tr th:only-of-type {\n",
       "        vertical-align: middle;\n",
       "    }\n",
       "\n",
       "    .dataframe tbody tr th {\n",
       "        vertical-align: top;\n",
       "    }\n",
       "\n",
       "    .dataframe thead th {\n",
       "        text-align: right;\n",
       "    }\n",
       "</style>\n",
       "<table border=\"1\" class=\"dataframe\">\n",
       "  <thead>\n",
       "    <tr style=\"text-align: right;\">\n",
       "      <th></th>\n",
       "      <th>feature</th>\n",
       "      <th>importance</th>\n",
       "    </tr>\n",
       "  </thead>\n",
       "  <tbody>\n",
       "    <tr>\n",
       "      <td>20</td>\n",
       "      <td>location_Washington</td>\n",
       "      <td>0.000000</td>\n",
       "    </tr>\n",
       "    <tr>\n",
       "      <td>14</td>\n",
       "      <td>location_Portland</td>\n",
       "      <td>0.000000</td>\n",
       "    </tr>\n",
       "    <tr>\n",
       "      <td>11</td>\n",
       "      <td>location_New York</td>\n",
       "      <td>0.000000</td>\n",
       "    </tr>\n",
       "    <tr>\n",
       "      <td>19</td>\n",
       "      <td>location_Seattle</td>\n",
       "      <td>0.000000</td>\n",
       "    </tr>\n",
       "    <tr>\n",
       "      <td>9</td>\n",
       "      <td>location_Indianapolis</td>\n",
       "      <td>0.000000</td>\n",
       "    </tr>\n",
       "    <tr>\n",
       "      <td>15</td>\n",
       "      <td>location_San Antonio</td>\n",
       "      <td>0.000000</td>\n",
       "    </tr>\n",
       "    <tr>\n",
       "      <td>7</td>\n",
       "      <td>location_Fort Worth</td>\n",
       "      <td>0.000000</td>\n",
       "    </tr>\n",
       "    <tr>\n",
       "      <td>8</td>\n",
       "      <td>location_Houston</td>\n",
       "      <td>0.000000</td>\n",
       "    </tr>\n",
       "    <tr>\n",
       "      <td>5</td>\n",
       "      <td>location_Denver</td>\n",
       "      <td>0.000000</td>\n",
       "    </tr>\n",
       "    <tr>\n",
       "      <td>4</td>\n",
       "      <td>location_Dallas</td>\n",
       "      <td>0.000000</td>\n",
       "    </tr>\n",
       "    <tr>\n",
       "      <td>3</td>\n",
       "      <td>location_Columbus</td>\n",
       "      <td>0.000000</td>\n",
       "    </tr>\n",
       "    <tr>\n",
       "      <td>1</td>\n",
       "      <td>location_Charlotte</td>\n",
       "      <td>0.000000</td>\n",
       "    </tr>\n",
       "    <tr>\n",
       "      <td>6</td>\n",
       "      <td>location_El Paso</td>\n",
       "      <td>0.000000</td>\n",
       "    </tr>\n",
       "    <tr>\n",
       "      <td>16</td>\n",
       "      <td>location_San Diego</td>\n",
       "      <td>0.000000</td>\n",
       "    </tr>\n",
       "    <tr>\n",
       "      <td>13</td>\n",
       "      <td>location_Phoenix</td>\n",
       "      <td>0.050063</td>\n",
       "    </tr>\n",
       "    <tr>\n",
       "      <td>2</td>\n",
       "      <td>location_Chicago</td>\n",
       "      <td>0.123172</td>\n",
       "    </tr>\n",
       "    <tr>\n",
       "      <td>18</td>\n",
       "      <td>location_San Jose</td>\n",
       "      <td>0.123775</td>\n",
       "    </tr>\n",
       "    <tr>\n",
       "      <td>10</td>\n",
       "      <td>location_Los Angeles</td>\n",
       "      <td>0.140271</td>\n",
       "    </tr>\n",
       "    <tr>\n",
       "      <td>0</td>\n",
       "      <td>location_Boston</td>\n",
       "      <td>0.141597</td>\n",
       "    </tr>\n",
       "    <tr>\n",
       "      <td>12</td>\n",
       "      <td>location_Philadelphia</td>\n",
       "      <td>0.163148</td>\n",
       "    </tr>\n",
       "    <tr>\n",
       "      <td>17</td>\n",
       "      <td>location_San Francisco</td>\n",
       "      <td>0.257973</td>\n",
       "    </tr>\n",
       "  </tbody>\n",
       "</table>\n",
       "</div>"
      ],
      "text/plain": [
       "                   feature  importance\n",
       "20     location_Washington    0.000000\n",
       "14       location_Portland    0.000000\n",
       "11       location_New York    0.000000\n",
       "19        location_Seattle    0.000000\n",
       "9    location_Indianapolis    0.000000\n",
       "15    location_San Antonio    0.000000\n",
       "7      location_Fort Worth    0.000000\n",
       "8         location_Houston    0.000000\n",
       "5          location_Denver    0.000000\n",
       "4          location_Dallas    0.000000\n",
       "3        location_Columbus    0.000000\n",
       "1       location_Charlotte    0.000000\n",
       "6         location_El Paso    0.000000\n",
       "16      location_San Diego    0.000000\n",
       "13        location_Phoenix    0.050063\n",
       "2         location_Chicago    0.123172\n",
       "18       location_San Jose    0.123775\n",
       "10    location_Los Angeles    0.140271\n",
       "0          location_Boston    0.141597\n",
       "12   location_Philadelphia    0.163148\n",
       "17  location_San Francisco    0.257973"
      ]
     },
     "execution_count": 31,
     "metadata": {},
     "output_type": "execute_result"
    }
   ],
   "source": [
    "feature_importances"
   ]
  },
  {
   "cell_type": "code",
   "execution_count": 32,
   "metadata": {
    "ExecuteTime": {
     "end_time": "2020-03-30T14:27:41.372044Z",
     "start_time": "2020-03-30T14:27:40.989180Z"
    }
   },
   "outputs": [
    {
     "data": {
      "image/png": "[encoded data removed]",
      "text/plain": [
       "<Figure size 720x432 with 1 Axes>"
      ]
     },
     "metadata": {
      "needs_background": "light"
     },
     "output_type": "display_data"
    }
   ],
   "source": [
    "fig ,ax=plt.subplots(figsize=(10,6))\n",
    "feature_importances.importance.plot(kind='barh',colormap='hsv',alpha=1)\n",
    "ax.set_xlabel('Feature importance')\n",
    "ax.set_yticklabels(feature_importances['feature'])\n",
    "plt.show()"
   ]
  },
  {
   "cell_type": "markdown",
   "metadata": {},
   "source": [
    "from this graph above, it seems that San Francisco seems to be quite of high importance at 0.258. This suggests that the decision tree classified certain jobs based off whether it was based in SF or not the most frequently."
   ]
  },
  {
   "cell_type": "markdown",
   "metadata": {},
   "source": [
    "# Using NLP on job title, and dummifying other variables"
   ]
  },
  {
   "cell_type": "markdown",
   "metadata": {},
   "source": [
    "We will the clean the titles abit more so that titles that may include things such as 'scientist' is the same as 'science' or 'analytics' is the same as 'analysis'"
   ]
  },
  {
   "cell_type": "code",
   "execution_count": 33,
   "metadata": {
    "ExecuteTime": {
     "end_time": "2020-03-30T14:27:41.392485Z",
     "start_time": "2020-03-30T14:27:41.379130Z"
    }
   },
   "outputs": [
    {
     "data": {
      "text/plain": [
       "array(['Data Scientist',\n",
       "       'Special Assistant (working title: Research Data Officer 1 –...',\n",
       "       'Senior Data Scientist',\n",
       "       'Data Scientist, Office of Talent Research and Data (ORD)',\n",
       "       'Cyber Data Engineer',\n",
       "       'Senior Data Analyst M/WBE, Enterprise Data Services',\n",
       "       'Supervisory Survey Statistician (Regional Survey Manager), G...',\n",
       "       'Senior Counsel for Telecommunications/Artificial Intelligenc...',\n",
       "       'Data Scientist - Work with Analytics and Engineering',\n",
       "       'Power BI Developer / Lake Success / Long Island',\n",
       "       'Data Engineer - Working on Data Science Team',\n",
       "       'Senior Data Engineer / AI Software',\n",
       "       'Data Science Instructor, Principal Data Scientist',\n",
       "       'VP Data Science', 'Senior Datashare Data Engineer',\n",
       "       'Data Engineer / NYC', 'Junior Data Engineer- Mission Driven',\n",
       "       'Data Engineer / Python', 'Senior Data Engineer', 'Data Engineer',\n",
       "       'Deputy Director of Analytics (Data Product & Research)',\n",
       "       'Mid Level Data Engineer - Interest in Finance!',\n",
       "       'Senior Java/Data Engineer',\n",
       "       'Mid-Level Data Engineer at Travel Company',\n",
       "       'Junior Data Engineer/Data Analyst working in Education',\n",
       "       'Senior Data Engineer / Python / MySQL / Redshift',\n",
       "       'Mid to Senior Level Data Engineer at Healthtech Startup',\n",
       "       'Senior Data Engineer at Brooklyn Real Estate Startup',\n",
       "       'Big Data Engineer (Hadoop/Machine Learning/Cloudera/Databric...',\n",
       "       'Data Analyst, PNA', 'Data Analyst',\n",
       "       'Epidemiologist/Data Analyst, Bureau of Immunization',\n",
       "       'Researcher/Data Analyst, Mental Health', 'Data Analyst (NCU)',\n",
       "       'Tracking and Monitoring Data Analyst',\n",
       "       'Data Analyst, Shop Healthy NYC', 'Program Data Analyst',\n",
       "       'Data Analyst, DSF', 'Compliance Data Analyst',\n",
       "       'Senior Data Analyst, DSF',\n",
       "       'Data Analyst, Bureau of Tuberculosis Control',\n",
       "       'Data Analyst, Bureau of HIV',\n",
       "       'Data Analyst and Maven Backup System Administrator, Bureau o...',\n",
       "       'DATA ANALYST, BUSINESS OPERATIONS',\n",
       "       'Data Analyst -Policy Analytics',\n",
       "       'Business and Data Analyst Manager',\n",
       "       'Assistant Director of Data Analytics',\n",
       "       'Data Analyst, Bureau of Equitable Health Systems',\n",
       "       'Data Analyst - on Data Engineering Team',\n",
       "       'COMPUTER SYSTEMS MANAGER', 'Computer Systems Manager',\n",
       "       'Data Analysis and Syndromic Surveillance Analyst',\n",
       "       'Data Support Analyst', 'Data Systems Analyst',\n",
       "       'Health Care Data Analyst', 'Junior Project Coordinator',\n",
       "       'Analyst | Transportation', 'Business Analyst',\n",
       "       'Data Analytics Associate/Information Designer',\n",
       "       'Business Analyst II/Senior Business Analyst', 'Contract Analyst',\n",
       "       'Public Safety Business Analyst',\n",
       "       'Research Scientist (Descriptive Title: Marine Zoologist)',\n",
       "       'Assistant Research Scientist (G14) Clinical Genetics 14687OR...',\n",
       "       'Scientist (Water Ecology) II', 'Senior Research Scientist',\n",
       "       'Post-Doctoral Fellow (one-year position)',\n",
       "       'Deputy Chief, Industrial Pollution Prevention Unit',\n",
       "       'Field Researcher, Bureau of Alcohol and Drug Use, Prevention...',\n",
       "       'Health Physicist', 'Compliance Specialist',\n",
       "       'Policy Analyst, Center for Health Equity and Community Welln...',\n",
       "       'Research Nurse Practitioner', 'Graduate Training Program',\n",
       "       'Lead Data Scientist', 'Research Assistant',\n",
       "       'Research Development Analyst', 'Collections Strategist',\n",
       "       'Smart Cities Postdoctoral Associates (2020)',\n",
       "       'Data Analyst, Bureau of Application Development and Database...',\n",
       "       'Analysis and Reporting Analyst', 'Data Operations Engineer',\n",
       "       'Data Science Online Course Instructor (Part-Time, Contract)',\n",
       "       'Senior Scientific Programmer', 'CAD and Records Manager',\n",
       "       'Data Science/Tensorflow/Python/R/Hadoop', 'Data Developer',\n",
       "       'Big Data Engineer', 'Data Engineer/Los Angeles',\n",
       "       'Data Engineer/Spark/Flume/AWS',\n",
       "       'Senior Back End Data Engineer / 150K',\n",
       "       'Data Engineer / Python / Elasticsearch', 'Lead Data Engineer',\n",
       "       'Data Engineer/Python/SQL', 'Data Engineer / ETL / AWS / SQL',\n",
       "       'Senior Data Engineer/AWS/Python/Spark',\n",
       "       'DBA Engineer / BI Developer',\n",
       "       'Senior Data Engineer/Java/Scala/Hadoop',\n",
       "       'Data Engineer for Financial Firm/Python/SQL/Azure',\n",
       "       'Senior Data Engineer / ETL / Spark',\n",
       "       'Senior Data Engineer / Python & Spark', 'PROGRAM ANALYST',\n",
       "       'Management Analyst', 'Data and Contracts Analyst',\n",
       "       'Report Developer', 'Sr. Data Analyst', 'ERP / CRM Data Analyst',\n",
       "       'Finance & Data Analyst', 'Growth Hacker',\n",
       "       'Full Charge Bookkeeper', 'Research Lab Specialist',\n",
       "       'RESEARCH ANALYST III, BEHAVIORAL SCIENCES',\n",
       "       'Management Analyst I', 'Machine Learning Engineer',\n",
       "       'DevOps Engineer',\n",
       "       'Senior Back End Python Engineer for growing AI company',\n",
       "       'Python Web Developer / AWS / Microservices',\n",
       "       'IT Project Manager – Connected Car',\n",
       "       'Data Scientist Consultant / $130k', 'AVP, Senior Data Engineer',\n",
       "       'AVP, Big Data Engineer', 'AVP, Technical Data Engineer Lead',\n",
       "       'Data Engineer / Spark', 'VP, Technical Data Engineer Lead',\n",
       "       'Senior Data Engineer / Fortune 100 Company / Spark and Datab...',\n",
       "       'Senior Data Engineer / $110k', 'Senior Data Engineer / Scala',\n",
       "       'Mid/ Senior Level Data Engineer', 'Lead Python Engineer / Data',\n",
       "       'Data Architect (Senior Role)', 'Management and Program Analyst',\n",
       "       'Data Analyst (Master Data Management)',\n",
       "       'Marketing Data Analyst Consultant',\n",
       "       'Business Systems and Data Analyst', 'HVAC Analyst',\n",
       "       'Data Architect with Data Modeling', 'Data Manager',\n",
       "       'UI Developer (JavaScript - Mandarin Speaking - Will Train)',\n",
       "       'Business Intelligence Development Manager', 'Sr. BI Analyst',\n",
       "       'Lead Technical Support Analyst – ETL/SQL',\n",
       "       'Senior Business Analyst, Insurance – Min 5 yrs exp',\n",
       "       'Board Certified Behavior Analyst', 'Research Technologist II',\n",
       "       'Senior AI Data Science',\n",
       "       'Senior BI Developer / Data Science / Naperville',\n",
       "       'Data Engineer Apprentice | Associates Degree',\n",
       "       'Data Analyst, Title V Grant', 'Financial Database Analyst',\n",
       "       'Data Science / Machine Learning Engineer',\n",
       "       'Senior Quality Engineer – Test Data Management',\n",
       "       'Project Manager', 'Trion Technology Lead',\n",
       "       'Global Specialist Cybersecurity - Awareness', 'Statistician',\n",
       "       'Data Architect', 'HRIS Data Analyst Senior',\n",
       "       'Data Engineer / Java', 'Business Data Analyst',\n",
       "       'Healthcare Data Analyst', 'Planning and Research Analyst',\n",
       "       'SENIOR BUSINESS ANALYST', 'BUSINESS ANALYST',\n",
       "       'Budget and Finance Analyst',\n",
       "       'Researcher Data Analyst Specialist VII (Job 2371)',\n",
       "       'Jr. SQL Developer', 'Data Content Specialist',\n",
       "       'Copywriter and Social Media Strategist',\n",
       "       'Partner Success Associate', 'Junior-Mid Level Data Engineer',\n",
       "       'Mid level Data Engineer',\n",
       "       'Data Engineer/Spark/Flume/AWS/Data Pipelines', 'Data Engineering',\n",
       "       'Sr Machine Learning Engineer', 'Senior Data Engineer/Architect',\n",
       "       'Data Software Engineer - Data Lake/Data Warehouse',\n",
       "       'Mid-Senior Data Scientist',\n",
       "       'Python Developer – ELK/Machine Learning', 'CRM Data Analyst',\n",
       "       'Master Data Senior Analyst', 'BUDGET ANALYST',\n",
       "       'Computer Engineering/Computer Scientist/Electronic Engineer/...',\n",
       "       'Computer Vision/Deep Learning Software Engineer',\n",
       "       'Python Data Engineer/Cloud Based SaaS',\n",
       "       'Data Engineer/Data Analyst', 'Senior Program Analyst',\n",
       "       'Entry Level Data Analyst (STEM)', 'Entry- Level Data Analyst',\n",
       "       'Data Analyst Entry Level (STEM candidates eligible to apply)',\n",
       "       'Entry Level Data Analyst', 'Entry level database developer',\n",
       "       'Data Analyst and Microsoft BI Developer',\n",
       "       'Data Analyst (STEM background)', 'MANAGER', 'Project Engineer',\n",
       "       'Cyber Engineering', 'Software Developer',\n",
       "       'Senior Software Engineer', 'Sr. Project Manager',\n",
       "       'Decision Science Analyst',\n",
       "       'Data Scientist / Machine Learning Engineer / Software Engine...',\n",
       "       'Senior Data Analyst - Collibra/Mulesoft',\n",
       "       'Computer Vision Engineer, Machine Learning',\n",
       "       'Data Cloud Developer', 'Senior Data Cloud Developer',\n",
       "       'Data Cloud Management and Governance Manager',\n",
       "       'Information Technology Business Analyst V', 'BI Developer III',\n",
       "       'Microservices Development Engineer', 'Executive Sales Assistant',\n",
       "       'Junior Data Engineer/Python/C++/Menlo Park',\n",
       "       'Senior Data Engineer / Google Cloud Analytics',\n",
       "       'Grievance and Appeals Data Analyst',\n",
       "       'Analyst I/II- Department of Finance (Debt Management)',\n",
       "       'Senior Marketing Data Anlayst',\n",
       "       'Sr. Data Analyst - Innovative Health Plan',\n",
       "       'Computer Scientist, GS-1550-13 (SRM-MP)',\n",
       "       'Research Geophysicist, GS-1313-12 (SRM-DEU)',\n",
       "       'Director of Data Science', 'Mathematical Scientist',\n",
       "       'Postdoc position in Quantitative Evolutionary Genetics and E...',\n",
       "       'Senior iOS Developer', 'NodeJS Developer', 'Python Web Developer',\n",
       "       'Adjunct Professors in Business Analytics, FinTech, AI, DevOp...',\n",
       "       'Data Integration Engineer', 'CRM and Data Engineer (Zoho One)',\n",
       "       'Sr. Data Engineer', 'Data Designer - Communications Division',\n",
       "       'Systems Analyst Sr',\n",
       "       'IRS PATHWAYS STUDENT INTERNSHIP PROGRAM (Student Trainee-Dat...',\n",
       "       'Supervisory Program Analyst (Budget)', 'Business Analyst I',\n",
       "       'International Product Analyst- Mexico',\n",
       "       'Operations Analyst - Symitar System and Episys Data Structur...',\n",
       "       'Compensation Analyst',\n",
       "       'International Product Analyst- Dutch Markets',\n",
       "       'Senior Business Analyst, Manager', 'Backend Software Engineer',\n",
       "       'Interdisciplinary',\n",
       "       'Senior Statistician / Economist - Public Health Research',\n",
       "       'Data Scientist - Sports Analytics (Full-Time, Entry-Level, S...',\n",
       "       'Product Scientist',\n",
       "       'Data Analyst Apprentice | Associate Degree Candidates',\n",
       "       'Data Engineering Apprentice | Associates Degree',\n",
       "       'Sr. Data Governance Architect/Engineer',\n",
       "       'Principal Project Engineer - Streamlined Project Delivery an...',\n",
       "       'Data Analytics Specialist', 'Annual Giving Data Analyst',\n",
       "       'Data Analytics Consultant', 'Sr. Business Analyst',\n",
       "       'Soil Scientist (Direct Hire)', 'Hydrologic Technician',\n",
       "       'Post Doctoral Researcher', 'Senior Data Analyst- Product',\n",
       "       'Machine Learning Data Scientist or Bioinformatics Fellow',\n",
       "       'Data Science Manager', 'Machine Learning Algorithms Engineer',\n",
       "       'Machine Learning Engineer/San Francisco/Banking/Finance',\n",
       "       'Manager of Machine Learning',\n",
       "       'Senior Software Engineer on Data Infrastructure / AI / Suppl...',\n",
       "       'Sr. Data Scientist', 'Senior Scientist, Pharmacokinetics',\n",
       "       'Senior AI Backend Engineer',\n",
       "       '120 FINANCE - Senior Data Analyst Healthcare',\n",
       "       'NLP Lead Engineer', 'Data Engineer / Health Care Startup',\n",
       "       'Data Engineer/San Francisco/Ad/Pipeline',\n",
       "       'Data Engineer / Digital Media / Sports',\n",
       "       'Big Data Engineer / Java', 'Mid-Level Data Engineer',\n",
       "       'Data Engineer/Python/Senior/Energy',\n",
       "       'Data Engineer/Principal/San Francisco/Real Estate/Finance',\n",
       "       'Data System Engineer / Big Data Engineer / Java',\n",
       "       'Data Engineer / Senior Software Engineer / Java',\n",
       "       'Data Visualization Analyst',\n",
       "       'Assistant Scheduler and Data Analyst', 'Management Analyst I/II',\n",
       "       'Data Analytics Manager', 'Operations Analyst',\n",
       "       'Community Program Analyst II-In-Home Supportive Services-Agi...',\n",
       "       'Technical Services Associate',\n",
       "       'Sr. Analyst, Commercial Business Intelligence',\n",
       "       'Business Intelligence Lead Analyst',\n",
       "       'Secure Research Systems Analyst 4 (0499U)',\n",
       "       'Senior Natural Language AI & Machine Learning Engineer w/ We...',\n",
       "       'Growth Marketing Associate', 'Researcher', 'Executive Assistant',\n",
       "       'Postdoctoral Employee',\n",
       "       'Senior Business Analyst - Insurance Claims',\n",
       "       'Research Training Group Postdoctoral Scholar',\n",
       "       'Senior Back-End Engineer', 'Python Data Engineer',\n",
       "       'Application DBA / Data Engineer', 'Research Data Analyst',\n",
       "       'Business Systems Consultant Intermediate',\n",
       "       'Marketing Data Analyst', 'Senior Business Intelligence Analyst',\n",
       "       'Global Business Analyst - Payroll', 'Physician (Public Health)',\n",
       "       'Systems Data Analyst', 'Supervisory Management Analyst',\n",
       "       'Continuous Improvement Specialist', 'RSD Analyst I - MCLE',\n",
       "       'Management & Program Analyst', 'MANAGEMENT AND PROGRAM ANALYST',\n",
       "       'CLINICAL DATA ANALYST MANAGER',\n",
       "       'Management & Program Analyst - UNICOR',\n",
       "       'Senior IT Business Analyst', 'SUPV PROGRAM ANALYST',\n",
       "       'IT Business Analyst Level 1',\n",
       "       'Geographer/Cartographer GS-1370-14 (PR-PERM)',\n",
       "       'Geographer/Cartographer GS-1370-14 (PR-DE)',\n",
       "       'Ruby on Rails Developer', 'Technical Writer',\n",
       "       'Business Intelligence Analyst',\n",
       "       'Senior Full Stack Software Engineer',\n",
       "       'Senior Machine Learning (ML) and Computer Vision (CV) Engine...',\n",
       "       'Program Analyst', 'Program Analyst, GS-0343-11/12 (DEU-CL)',\n",
       "       'Systems Administrator/Business Analyst',\n",
       "       'IT Senior Business/Application Analyst',\n",
       "       'Data & Reporting Analyst', 'RMPDS Data Management Analyst II',\n",
       "       'Business Analyst/Scrum Master', 'Sales Operations Analyst',\n",
       "       'HIE Business Analyst', 'Business Analyst, IT',\n",
       "       'Business Intelligence Consultant (Denver)',\n",
       "       'Physical Scientist, GS-1301-09/11/12 (DE/CR)',\n",
       "       'Analyst - Assessment & Research G05-G07',\n",
       "       'Lab Data Systems Administrator - 0029',\n",
       "       'Source Strategies Analyst', 'Hydrologist, GS-1315-09 (TERM-MTL)',\n",
       "       'Sr Building Engineer (Electrician) - Data Center',\n",
       "       'Software Engineer',\n",
       "       'Senior Electrical Engineer - Spacecraft Command & Data Handl...',\n",
       "       'Business Intelligence Data Specialist (ITDM-Journey) DOH4764',\n",
       "       'Mathematical Statistician - Direct Hire',\n",
       "       'Software Data Operation Engineer',\n",
       "       'Fiscal Information and Data Analyst (FIDA/FS-Budget)',\n",
       "       'Technical Data Analyst', 'Investigative Analyst',\n",
       "       'Student Systems & Support | Data Analyst',\n",
       "       'GIS Analyst & Data Specialist (Data Management Journey)',\n",
       "       'Project Administrator (WMS 1/DBHR)',\n",
       "       'SPPR Program Modeling and Analysis Scientist (Natural Resour...',\n",
       "       'Retirement Accounting Analyst Senior', 'Budget Analyst',\n",
       "       'Community Corrections Caseworker (SDA or TLT)',\n",
       "       'Casino Property Analyst', 'State Lands Silviculture Scientist',\n",
       "       'CIVIL ENGINEER', 'Operations Research Specialist (ORS/CQCT)',\n",
       "       'Social Data Media engineer',\n",
       "       'Sales & Marketing Operations Manager',\n",
       "       'Data Scientist, Office of Data Science',\n",
       "       'Senior Crime Data Analyst', 'Analyst I/II, Data Science',\n",
       "       'Assistant Director/Director I, Data Science',\n",
       "       'Director I, Data Science-Marketing Analytics',\n",
       "       'Data Engineer with Machine Learning and AI',\n",
       "       'Data Scientist (Full-Time)', 'Machine Learning Researcher',\n",
       "       'Global Data Engineer', 'Software Developer and Data Engineer I',\n",
       "       'Data Engineer for Cutting-Edge AI Lab',\n",
       "       'Senior Data Engineer for Leading Biomed Company that Receive...',\n",
       "       'Senior Data Engineer – Data Optimization and Travel Analytic...',\n",
       "       'Backend Data Engineer',\n",
       "       'Cloud Data Engineer------------10+Yrs----------MA',\n",
       "       'Data Analyst and IT Systems Specialist',\n",
       "       'Health Services Executive Assistant', 'Senior Business Analyst',\n",
       "       'EDM Business Analyst', 'Lead Business Analyst - Fixed Income',\n",
       "       'Manager II, Business Analysis',\n",
       "       'Director I, Data Science, GRS Predictive Analytics Team',\n",
       "       'Director of Enterprise Applications & Business Intelligence',\n",
       "       'Edp Systems Analyst III',\n",
       "       'Full Time or Part Time Board Certified Behavior Analyst (BCB...',\n",
       "       'Board Certified Behavior Analyst (BCBA) / Clinical Superviso...',\n",
       "       'Policy and Research Analyst', 'Astrophysicist',\n",
       "       'Mechatronics Engineer',\n",
       "       'Interdisciplinary (Biologist, Ecologist, Civil Eng, Env Eng,...',\n",
       "       'Regional Planner V', 'Environmental Analyst IV',\n",
       "       'Director of Natural Resources',\n",
       "       'Assistant Dam Safety Permit Engineer',\n",
       "       'Environmental Analyst III', 'Data Center Facilities Engineer',\n",
       "       'Software Engineer - Big Data at Startup in Downtown Boston',\n",
       "       'Principal UI Engineer (Data Visualization)',\n",
       "       'Sr. Software Engineer (Data Engineering)',\n",
       "       'Data Governance Data Analyst (System Application Analyst, Sr...',\n",
       "       'Research Associate (Research Statistician)',\n",
       "       'Data Engineer, Advanced Analytics',\n",
       "       'Lead Data Engineer, Enterprise Modernization',\n",
       "       'PBM Business Data Analyst 3', 'Health Services Research Analyst',\n",
       "       'Business Intelligence Analyst/ETL Developer (Application Eng...',\n",
       "       'SAP GTS (Global Trade Services) Business Analyst',\n",
       "       'Entry Level Business Intelligence Analyst (STEM)',\n",
       "       'Hydrologist, GS-1315-11/12 (DEU-MTL)', 'Research Assistant 2',\n",
       "       'CD2H Evaluator (Research Associate)',\n",
       "       'Research Analytics and Big Data Manager',\n",
       "       'BI Engineer, Azure Data Lake'], dtype=object)"
      ]
     },
     "execution_count": 33,
     "metadata": {},
     "output_type": "execute_result"
    }
   ],
   "source": [
    "clean['job_title'].unique()"
   ]
  },
  {
   "cell_type": "code",
   "execution_count": 34,
   "metadata": {
    "ExecuteTime": {
     "end_time": "2020-03-30T14:27:41.408228Z",
     "start_time": "2020-03-30T14:27:41.396473Z"
    }
   },
   "outputs": [],
   "source": [
    "def replace_words(role):\n",
    "    role=role.lower()\n",
    "    role=role.replace('scientist','science')\n",
    "    role=role.replace('analysis','analyst')\n",
    "    role=role.replace('analytics','analyst')\n",
    "    role=role.replace('engineering','engineer')\n",
    "    role=role.replace('sr.','senior')\n",
    "    role=role.replace('sr','senior')\n",
    "    role=role.replace('jr.','junior')\n",
    "    role=role.replace('jr','junior')\n",
    "    role=role.replace('mid-level','mid level')\n",
    "    role=role.replace('.',' ')\n",
    "    role=role.replace('/',' ')\n",
    "    return role\n",
    "\n",
    "clean['job_title']=clean['job_title'].apply(lambda x: replace_words(x))\n"
   ]
  },
  {
   "cell_type": "code",
   "execution_count": 35,
   "metadata": {
    "ExecuteTime": {
     "end_time": "2020-03-30T14:27:41.419033Z",
     "start_time": "2020-03-30T14:27:41.411891Z"
    }
   },
   "outputs": [],
   "source": [
    "df=clean.copy()"
   ]
  },
  {
   "cell_type": "code",
   "execution_count": 36,
   "metadata": {
    "ExecuteTime": {
     "end_time": "2020-03-30T14:27:41.432030Z",
     "start_time": "2020-03-30T14:27:41.421983Z"
    }
   },
   "outputs": [],
   "source": [
    "#Puts all the words in every row into 1 string\n",
    "words=' '\n",
    "for title in df['job_title']:\n",
    "    words=words+' '+title"
   ]
  },
  {
   "cell_type": "code",
   "execution_count": 37,
   "metadata": {
    "ExecuteTime": {
     "end_time": "2020-03-30T14:27:41.616098Z",
     "start_time": "2020-03-30T14:27:41.435106Z"
    },
    "scrolled": true
   },
   "outputs": [
    {
     "data": {
      "text/html": [
       "<div>\n",
       "<style scoped>\n",
       "    .dataframe tbody tr th:only-of-type {\n",
       "        vertical-align: middle;\n",
       "    }\n",
       "\n",
       "    .dataframe tbody tr th {\n",
       "        vertical-align: top;\n",
       "    }\n",
       "\n",
       "    .dataframe thead th {\n",
       "        text-align: right;\n",
       "    }\n",
       "</style>\n",
       "<table border=\"1\" class=\"dataframe\">\n",
       "  <thead>\n",
       "    <tr style=\"text-align: right;\">\n",
       "      <th></th>\n",
       "      <th>count</th>\n",
       "    </tr>\n",
       "  </thead>\n",
       "  <tbody>\n",
       "    <tr>\n",
       "      <td>data engineer</td>\n",
       "      <td>111</td>\n",
       "    </tr>\n",
       "    <tr>\n",
       "      <td>data analyst</td>\n",
       "      <td>94</td>\n",
       "    </tr>\n",
       "    <tr>\n",
       "      <td>data science</td>\n",
       "      <td>56</td>\n",
       "    </tr>\n",
       "    <tr>\n",
       "      <td>senior data</td>\n",
       "      <td>54</td>\n",
       "    </tr>\n",
       "    <tr>\n",
       "      <td>analyst data</td>\n",
       "      <td>35</td>\n",
       "    </tr>\n",
       "    <tr>\n",
       "      <td>...</td>\n",
       "      <td>...</td>\n",
       "    </tr>\n",
       "    <tr>\n",
       "      <td>1370 14 pr</td>\n",
       "      <td>4</td>\n",
       "    </tr>\n",
       "    <tr>\n",
       "      <td>engineer software</td>\n",
       "      <td>4</td>\n",
       "    </tr>\n",
       "    <tr>\n",
       "      <td>geographer cartographer</td>\n",
       "      <td>4</td>\n",
       "    </tr>\n",
       "    <tr>\n",
       "      <td>geographer cartographer gs</td>\n",
       "      <td>4</td>\n",
       "    </tr>\n",
       "    <tr>\n",
       "      <td>systems data analyst</td>\n",
       "      <td>4</td>\n",
       "    </tr>\n",
       "  </tbody>\n",
       "</table>\n",
       "<p>100 rows × 1 columns</p>\n",
       "</div>"
      ],
      "text/plain": [
       "                            count\n",
       "data engineer                 111\n",
       "data analyst                   94\n",
       "data science                   56\n",
       "senior data                    54\n",
       "analyst data                   35\n",
       "...                           ...\n",
       "1370 14 pr                      4\n",
       "engineer software               4\n",
       "geographer cartographer         4\n",
       "geographer cartographer gs      4\n",
       "systems data analyst            4\n",
       "\n",
       "[100 rows x 1 columns]"
      ]
     },
     "execution_count": 37,
     "metadata": {},
     "output_type": "execute_result"
    }
   ],
   "source": [
    "from sklearn.feature_extraction.text import CountVectorizer\n",
    "cvec= CountVectorizer(stop_words='english', ngram_range=(2,3),max_features=100)\n",
    "cvec.fit([words])\n",
    "\n",
    "document_matrix = cvec.transform([words])\n",
    "df_words = pd.DataFrame(cvec.transform([words]).toarray(),\n",
    "                        columns=cvec.get_feature_names(),\n",
    "                        index=['count'])\n",
    "# Show top 100 words in that are frequent in job titles.\n",
    "df_words.T.sort_values(by='count',ascending=False)"
   ]
  },
  {
   "cell_type": "code",
   "execution_count": 38,
   "metadata": {
    "ExecuteTime": {
     "end_time": "2020-03-30T14:27:41.645202Z",
     "start_time": "2020-03-30T14:27:41.619980Z"
    }
   },
   "outputs": [],
   "source": [
    "#Don't require salary as hilo is essentially defined by salary\n",
    "y=df.pop('hilo')\n",
    "df=df.drop(columns='salary')\n",
    "df=pd.get_dummies(df,columns=['company','location'],drop_first=False)"
   ]
  },
  {
   "cell_type": "code",
   "execution_count": 39,
   "metadata": {
    "ExecuteTime": {
     "end_time": "2020-03-30T14:27:41.701272Z",
     "start_time": "2020-03-30T14:27:41.648161Z"
    }
   },
   "outputs": [
    {
     "data": {
      "text/html": [
       "<div>\n",
       "<style scoped>\n",
       "    .dataframe tbody tr th:only-of-type {\n",
       "        vertical-align: middle;\n",
       "    }\n",
       "\n",
       "    .dataframe tbody tr th {\n",
       "        vertical-align: top;\n",
       "    }\n",
       "\n",
       "    .dataframe thead th {\n",
       "        text-align: right;\n",
       "    }\n",
       "</style>\n",
       "<table border=\"1\" class=\"dataframe\">\n",
       "  <thead>\n",
       "    <tr style=\"text-align: right;\">\n",
       "      <th></th>\n",
       "      <th>company_ALDI</th>\n",
       "      <th>company_Agility Recovery</th>\n",
       "      <th>company_Alameda Alliance</th>\n",
       "      <th>company_Anheuser-Busch</th>\n",
       "      <th>company_Arizona State University</th>\n",
       "      <th>company_Arizona Supreme Court</th>\n",
       "      <th>company_Astravo</th>\n",
       "      <th>company_Aunt Bertha, a Public Benefit Corp.</th>\n",
       "      <th>company_Austin ISD</th>\n",
       "      <th>company_Austin Telco Federal Credit Union</th>\n",
       "      <th>...</th>\n",
       "      <th>senior data</th>\n",
       "      <th>senior data analyst</th>\n",
       "      <th>senior data engineer</th>\n",
       "      <th>senior data science</th>\n",
       "      <th>senior software</th>\n",
       "      <th>senior software engineer</th>\n",
       "      <th>software engineer</th>\n",
       "      <th>software engineer senior</th>\n",
       "      <th>systems analyst</th>\n",
       "      <th>systems data analyst</th>\n",
       "    </tr>\n",
       "  </thead>\n",
       "  <tbody>\n",
       "    <tr>\n",
       "      <td>0</td>\n",
       "      <td>0</td>\n",
       "      <td>0</td>\n",
       "      <td>0</td>\n",
       "      <td>0</td>\n",
       "      <td>0</td>\n",
       "      <td>0</td>\n",
       "      <td>0</td>\n",
       "      <td>0</td>\n",
       "      <td>0</td>\n",
       "      <td>0</td>\n",
       "      <td>...</td>\n",
       "      <td>0</td>\n",
       "      <td>0</td>\n",
       "      <td>0</td>\n",
       "      <td>0</td>\n",
       "      <td>0</td>\n",
       "      <td>0</td>\n",
       "      <td>0</td>\n",
       "      <td>0</td>\n",
       "      <td>0</td>\n",
       "      <td>0</td>\n",
       "    </tr>\n",
       "    <tr>\n",
       "      <td>1</td>\n",
       "      <td>0</td>\n",
       "      <td>0</td>\n",
       "      <td>0</td>\n",
       "      <td>0</td>\n",
       "      <td>0</td>\n",
       "      <td>0</td>\n",
       "      <td>0</td>\n",
       "      <td>0</td>\n",
       "      <td>0</td>\n",
       "      <td>0</td>\n",
       "      <td>...</td>\n",
       "      <td>0</td>\n",
       "      <td>0</td>\n",
       "      <td>0</td>\n",
       "      <td>0</td>\n",
       "      <td>0</td>\n",
       "      <td>0</td>\n",
       "      <td>0</td>\n",
       "      <td>0</td>\n",
       "      <td>0</td>\n",
       "      <td>0</td>\n",
       "    </tr>\n",
       "    <tr>\n",
       "      <td>2</td>\n",
       "      <td>0</td>\n",
       "      <td>0</td>\n",
       "      <td>0</td>\n",
       "      <td>0</td>\n",
       "      <td>0</td>\n",
       "      <td>0</td>\n",
       "      <td>0</td>\n",
       "      <td>0</td>\n",
       "      <td>0</td>\n",
       "      <td>0</td>\n",
       "      <td>...</td>\n",
       "      <td>0</td>\n",
       "      <td>0</td>\n",
       "      <td>0</td>\n",
       "      <td>0</td>\n",
       "      <td>0</td>\n",
       "      <td>0</td>\n",
       "      <td>0</td>\n",
       "      <td>0</td>\n",
       "      <td>0</td>\n",
       "      <td>0</td>\n",
       "    </tr>\n",
       "    <tr>\n",
       "      <td>3</td>\n",
       "      <td>0</td>\n",
       "      <td>0</td>\n",
       "      <td>0</td>\n",
       "      <td>0</td>\n",
       "      <td>0</td>\n",
       "      <td>0</td>\n",
       "      <td>0</td>\n",
       "      <td>0</td>\n",
       "      <td>0</td>\n",
       "      <td>0</td>\n",
       "      <td>...</td>\n",
       "      <td>0</td>\n",
       "      <td>0</td>\n",
       "      <td>0</td>\n",
       "      <td>0</td>\n",
       "      <td>0</td>\n",
       "      <td>0</td>\n",
       "      <td>0</td>\n",
       "      <td>0</td>\n",
       "      <td>0</td>\n",
       "      <td>0</td>\n",
       "    </tr>\n",
       "    <tr>\n",
       "      <td>4</td>\n",
       "      <td>0</td>\n",
       "      <td>0</td>\n",
       "      <td>0</td>\n",
       "      <td>0</td>\n",
       "      <td>0</td>\n",
       "      <td>0</td>\n",
       "      <td>0</td>\n",
       "      <td>0</td>\n",
       "      <td>0</td>\n",
       "      <td>0</td>\n",
       "      <td>...</td>\n",
       "      <td>1</td>\n",
       "      <td>0</td>\n",
       "      <td>0</td>\n",
       "      <td>1</td>\n",
       "      <td>0</td>\n",
       "      <td>0</td>\n",
       "      <td>0</td>\n",
       "      <td>0</td>\n",
       "      <td>0</td>\n",
       "      <td>0</td>\n",
       "    </tr>\n",
       "    <tr>\n",
       "      <td>...</td>\n",
       "      <td>...</td>\n",
       "      <td>...</td>\n",
       "      <td>...</td>\n",
       "      <td>...</td>\n",
       "      <td>...</td>\n",
       "      <td>...</td>\n",
       "      <td>...</td>\n",
       "      <td>...</td>\n",
       "      <td>...</td>\n",
       "      <td>...</td>\n",
       "      <td>...</td>\n",
       "      <td>...</td>\n",
       "      <td>...</td>\n",
       "      <td>...</td>\n",
       "      <td>...</td>\n",
       "      <td>...</td>\n",
       "      <td>...</td>\n",
       "      <td>...</td>\n",
       "      <td>...</td>\n",
       "      <td>...</td>\n",
       "      <td>...</td>\n",
       "    </tr>\n",
       "    <tr>\n",
       "      <td>526</td>\n",
       "      <td>0</td>\n",
       "      <td>0</td>\n",
       "      <td>0</td>\n",
       "      <td>0</td>\n",
       "      <td>0</td>\n",
       "      <td>0</td>\n",
       "      <td>0</td>\n",
       "      <td>0</td>\n",
       "      <td>0</td>\n",
       "      <td>0</td>\n",
       "      <td>...</td>\n",
       "      <td>0</td>\n",
       "      <td>0</td>\n",
       "      <td>0</td>\n",
       "      <td>0</td>\n",
       "      <td>0</td>\n",
       "      <td>0</td>\n",
       "      <td>0</td>\n",
       "      <td>0</td>\n",
       "      <td>0</td>\n",
       "      <td>0</td>\n",
       "    </tr>\n",
       "    <tr>\n",
       "      <td>527</td>\n",
       "      <td>0</td>\n",
       "      <td>0</td>\n",
       "      <td>0</td>\n",
       "      <td>0</td>\n",
       "      <td>0</td>\n",
       "      <td>0</td>\n",
       "      <td>0</td>\n",
       "      <td>0</td>\n",
       "      <td>0</td>\n",
       "      <td>0</td>\n",
       "      <td>...</td>\n",
       "      <td>0</td>\n",
       "      <td>0</td>\n",
       "      <td>0</td>\n",
       "      <td>0</td>\n",
       "      <td>0</td>\n",
       "      <td>0</td>\n",
       "      <td>0</td>\n",
       "      <td>0</td>\n",
       "      <td>0</td>\n",
       "      <td>0</td>\n",
       "    </tr>\n",
       "    <tr>\n",
       "      <td>528</td>\n",
       "      <td>0</td>\n",
       "      <td>0</td>\n",
       "      <td>0</td>\n",
       "      <td>0</td>\n",
       "      <td>0</td>\n",
       "      <td>0</td>\n",
       "      <td>0</td>\n",
       "      <td>0</td>\n",
       "      <td>0</td>\n",
       "      <td>0</td>\n",
       "      <td>...</td>\n",
       "      <td>0</td>\n",
       "      <td>0</td>\n",
       "      <td>0</td>\n",
       "      <td>0</td>\n",
       "      <td>0</td>\n",
       "      <td>0</td>\n",
       "      <td>0</td>\n",
       "      <td>0</td>\n",
       "      <td>0</td>\n",
       "      <td>0</td>\n",
       "    </tr>\n",
       "    <tr>\n",
       "      <td>529</td>\n",
       "      <td>0</td>\n",
       "      <td>0</td>\n",
       "      <td>0</td>\n",
       "      <td>0</td>\n",
       "      <td>0</td>\n",
       "      <td>0</td>\n",
       "      <td>0</td>\n",
       "      <td>0</td>\n",
       "      <td>0</td>\n",
       "      <td>0</td>\n",
       "      <td>...</td>\n",
       "      <td>0</td>\n",
       "      <td>0</td>\n",
       "      <td>0</td>\n",
       "      <td>0</td>\n",
       "      <td>0</td>\n",
       "      <td>0</td>\n",
       "      <td>0</td>\n",
       "      <td>0</td>\n",
       "      <td>0</td>\n",
       "      <td>0</td>\n",
       "    </tr>\n",
       "    <tr>\n",
       "      <td>530</td>\n",
       "      <td>0</td>\n",
       "      <td>0</td>\n",
       "      <td>0</td>\n",
       "      <td>0</td>\n",
       "      <td>0</td>\n",
       "      <td>0</td>\n",
       "      <td>0</td>\n",
       "      <td>0</td>\n",
       "      <td>0</td>\n",
       "      <td>0</td>\n",
       "      <td>...</td>\n",
       "      <td>0</td>\n",
       "      <td>0</td>\n",
       "      <td>0</td>\n",
       "      <td>0</td>\n",
       "      <td>0</td>\n",
       "      <td>0</td>\n",
       "      <td>0</td>\n",
       "      <td>0</td>\n",
       "      <td>0</td>\n",
       "      <td>0</td>\n",
       "    </tr>\n",
       "  </tbody>\n",
       "</table>\n",
       "<p>531 rows × 274 columns</p>\n",
       "</div>"
      ],
      "text/plain": [
       "     company_ALDI  company_Agility Recovery  company_Alameda Alliance  \\\n",
       "0               0                         0                         0   \n",
       "1               0                         0                         0   \n",
       "2               0                         0                         0   \n",
       "3               0                         0                         0   \n",
       "4               0                         0                         0   \n",
       "..            ...                       ...                       ...   \n",
       "526             0                         0                         0   \n",
       "527             0                         0                         0   \n",
       "528             0                         0                         0   \n",
       "529             0                         0                         0   \n",
       "530             0                         0                         0   \n",
       "\n",
       "     company_Anheuser-Busch  company_Arizona State University  \\\n",
       "0                         0                                 0   \n",
       "1                         0                                 0   \n",
       "2                         0                                 0   \n",
       "3                         0                                 0   \n",
       "4                         0                                 0   \n",
       "..                      ...                               ...   \n",
       "526                       0                                 0   \n",
       "527                       0                                 0   \n",
       "528                       0                                 0   \n",
       "529                       0                                 0   \n",
       "530                       0                                 0   \n",
       "\n",
       "     company_Arizona Supreme Court  company_Astravo  \\\n",
       "0                                0                0   \n",
       "1                                0                0   \n",
       "2                                0                0   \n",
       "3                                0                0   \n",
       "4                                0                0   \n",
       "..                             ...              ...   \n",
       "526                              0                0   \n",
       "527                              0                0   \n",
       "528                              0                0   \n",
       "529                              0                0   \n",
       "530                              0                0   \n",
       "\n",
       "     company_Aunt Bertha, a Public Benefit Corp.  company_Austin ISD  \\\n",
       "0                                              0                   0   \n",
       "1                                              0                   0   \n",
       "2                                              0                   0   \n",
       "3                                              0                   0   \n",
       "4                                              0                   0   \n",
       "..                                           ...                 ...   \n",
       "526                                            0                   0   \n",
       "527                                            0                   0   \n",
       "528                                            0                   0   \n",
       "529                                            0                   0   \n",
       "530                                            0                   0   \n",
       "\n",
       "     company_Austin Telco Federal Credit Union  ...  senior data  \\\n",
       "0                                            0  ...            0   \n",
       "1                                            0  ...            0   \n",
       "2                                            0  ...            0   \n",
       "3                                            0  ...            0   \n",
       "4                                            0  ...            1   \n",
       "..                                         ...  ...          ...   \n",
       "526                                          0  ...            0   \n",
       "527                                          0  ...            0   \n",
       "528                                          0  ...            0   \n",
       "529                                          0  ...            0   \n",
       "530                                          0  ...            0   \n",
       "\n",
       "     senior data analyst  senior data engineer  senior data science  \\\n",
       "0                      0                     0                    0   \n",
       "1                      0                     0                    0   \n",
       "2                      0                     0                    0   \n",
       "3                      0                     0                    0   \n",
       "4                      0                     0                    1   \n",
       "..                   ...                   ...                  ...   \n",
       "526                    0                     0                    0   \n",
       "527                    0                     0                    0   \n",
       "528                    0                     0                    0   \n",
       "529                    0                     0                    0   \n",
       "530                    0                     0                    0   \n",
       "\n",
       "     senior software  senior software engineer  software engineer  \\\n",
       "0                  0                         0                  0   \n",
       "1                  0                         0                  0   \n",
       "2                  0                         0                  0   \n",
       "3                  0                         0                  0   \n",
       "4                  0                         0                  0   \n",
       "..               ...                       ...                ...   \n",
       "526                0                         0                  0   \n",
       "527                0                         0                  0   \n",
       "528                0                         0                  0   \n",
       "529                0                         0                  0   \n",
       "530                0                         0                  0   \n",
       "\n",
       "     software engineer senior  systems analyst  systems data analyst  \n",
       "0                           0                0                     0  \n",
       "1                           0                0                     0  \n",
       "2                           0                0                     0  \n",
       "3                           0                0                     0  \n",
       "4                           0                0                     0  \n",
       "..                        ...              ...                   ...  \n",
       "526                         0                0                     0  \n",
       "527                         0                0                     0  \n",
       "528                         0                0                     0  \n",
       "529                         0                0                     0  \n",
       "530                         0                0                     0  \n",
       "\n",
       "[531 rows x 274 columns]"
      ]
     },
     "execution_count": 39,
     "metadata": {},
     "output_type": "execute_result"
    }
   ],
   "source": [
    "cvec = CountVectorizer(stop_words='english',ngram_range=(2,3),max_features=100)\n",
    "cvec.fit([words])\n",
    "\n",
    "#getting rid of job title in order to replace with word counts \n",
    "#of top 100 2-3 word phrases\n",
    "job_title=df.pop('job_title')\n",
    "\n",
    "# Putting in counts of words for particular job titles\n",
    "vectorised= pd.DataFrame(cvec.transform(job_title).toarray(),columns=cvec.get_feature_names())\n",
    "pd.concat([df,vectorised],axis=1)"
   ]
  },
  {
   "cell_type": "code",
   "execution_count": 40,
   "metadata": {
    "ExecuteTime": {
     "end_time": "2020-03-30T14:27:41.709175Z",
     "start_time": "2020-03-30T14:27:41.704085Z"
    }
   },
   "outputs": [],
   "source": [
    "#Combines all the companies and words into a dataframe\n",
    "X=pd.concat([df,vectorised],axis=1)"
   ]
  },
  {
   "cell_type": "code",
   "execution_count": 41,
   "metadata": {
    "ExecuteTime": {
     "end_time": "2020-03-30T14:27:41.722115Z",
     "start_time": "2020-03-30T14:27:41.711501Z"
    }
   },
   "outputs": [],
   "source": [
    "# Creating a Train_test_split\n",
    "X_train,X_test,y_train,y_test=train_test_split(X,y,test_size=0.2,random_state=0)"
   ]
  },
  {
   "cell_type": "code",
   "execution_count": 42,
   "metadata": {
    "ExecuteTime": {
     "end_time": "2020-03-30T14:27:41.729687Z",
     "start_time": "2020-03-30T14:27:41.725323Z"
    }
   },
   "outputs": [],
   "source": [
    "from sklearn.preprocessing import StandardScaler"
   ]
  },
  {
   "cell_type": "markdown",
   "metadata": {},
   "source": [
    "## Logistic Regression for all features"
   ]
  },
  {
   "cell_type": "code",
   "execution_count": 43,
   "metadata": {
    "ExecuteTime": {
     "end_time": "2020-03-30T14:27:41.743229Z",
     "start_time": "2020-03-30T14:27:41.735946Z"
    }
   },
   "outputs": [],
   "source": [
    "from sklearn.linear_model import LogisticRegressionCV"
   ]
  },
  {
   "cell_type": "code",
   "execution_count": 44,
   "metadata": {
    "ExecuteTime": {
     "end_time": "2020-03-30T14:27:46.169719Z",
     "start_time": "2020-03-30T14:27:41.745967Z"
    }
   },
   "outputs": [
    {
     "name": "stdout",
     "output_type": "stream",
     "text": [
      "Best Parameters: {'C': 0.046415888336127774, 'max_iter': 100, 'penalty': 'l2', 'solver': 'lbfgs'}\n",
      "Training Score: 0.7948113207547169\n",
      "Test Score: 0.794392523364486\n"
     ]
    }
   ],
   "source": [
    "model=LogisticRegression()\n",
    "\n",
    "gs_params = {'penalty': ['l2'],\n",
    "             'solver' : ['lbfgs'],\n",
    "             'C': np.logspace(-4,4,10),\n",
    "             'max_iter': [100,250,500]}\n",
    "\n",
    "lr_gridsearch = GridSearchCV(model, gs_params, n_jobs=2, cv=5, verbose=0)\n",
    "\n",
    "lr_gridsearch.fit(X_train,y_train)\n",
    "print('Best Parameters:', lr_gridsearch.best_params_)\n",
    "print('Training Score:',lr_gridsearch.score(X_train,y_train))\n",
    "print('Test Score:', lr_gridsearch.score(X_test,y_test))"
   ]
  },
  {
   "cell_type": "markdown",
   "metadata": {},
   "source": [
    "## Decision Tree Classifier for all features "
   ]
  },
  {
   "cell_type": "code",
   "execution_count": 45,
   "metadata": {
    "ExecuteTime": {
     "end_time": "2020-03-30T14:27:53.777143Z",
     "start_time": "2020-03-30T14:27:46.185808Z"
    }
   },
   "outputs": [
    {
     "name": "stdout",
     "output_type": "stream",
     "text": [
      "Best Parameters: {'max_depth': None, 'min_samples_split': 3}\n",
      "Train Score: 0.9363207547169812\n",
      "Test Score: 0.7289719626168224\n"
     ]
    }
   ],
   "source": [
    "dt=DecisionTreeClassifier()\n",
    "dt_params= {\n",
    "            'max_depth': [None]+ list(range(1,25)),\n",
    "            'min_samples_split':[2,3,4,5,10,15,20,25,30,40,50], \n",
    "}\n",
    "dt_gridsearch = GridSearchCV(dt,dt_params, n_jobs=2,cv=5,verbose=0)\n",
    "\n",
    "dt_gridsearch.fit(X_train,y_train)\n",
    "print('Best Parameters:', dt_gridsearch.best_params_)\n",
    "print('Train Score:', dt_gridsearch.score(X_train,y_train))\n",
    "print('Test Score:',dt_gridsearch.score(X_test,y_test))"
   ]
  },
  {
   "cell_type": "markdown",
   "metadata": {},
   "source": [
    "## K Nearest Neighbours for all features"
   ]
  },
  {
   "cell_type": "code",
   "execution_count": 46,
   "metadata": {
    "ExecuteTime": {
     "end_time": "2020-03-30T14:27:53.785255Z",
     "start_time": "2020-03-30T14:27:53.781313Z"
    }
   },
   "outputs": [],
   "source": [
    "from sklearn.neighbors import KNeighborsClassifier"
   ]
  },
  {
   "cell_type": "code",
   "execution_count": 47,
   "metadata": {
    "ExecuteTime": {
     "end_time": "2020-03-30T14:27:55.559023Z",
     "start_time": "2020-03-30T14:27:53.788682Z"
    },
    "scrolled": true
   },
   "outputs": [
    {
     "name": "stdout",
     "output_type": "stream",
     "text": [
      "Best Parameters: {'metric': 'manhattan', 'n_neighbors': 7}\n",
      "Train Score: 0.8160377358490566\n",
      "Test Score: 0.7663551401869159\n"
     ]
    }
   ],
   "source": [
    "knn=KNeighborsClassifier()\n",
    "\n",
    "knn_params = {'n_neighbors': [2,3,4,5,6,7,8,9,10],\n",
    "              'metric':['euclidean','manhattan']}\n",
    "\n",
    "knn_gridsearch = GridSearchCV(knn, knn_params, n_jobs=2 , cv=5, verbose=0)\n",
    "\n",
    "knn_gridsearch.fit(X_train,y_train)\n",
    "print('Best Parameters:',knn_gridsearch.best_params_)\n",
    "print('Train Score:', knn_gridsearch.score(X_train,y_train))\n",
    "print('Test Score:',knn_gridsearch.score(X_test,y_test))"
   ]
  },
  {
   "cell_type": "markdown",
   "metadata": {},
   "source": [
    "##### Best model for the test data seems to be logistic regression. We will try to improve it by bagging along with a gridsearch for the bagging to find the best parameters for bagging"
   ]
  },
  {
   "cell_type": "markdown",
   "metadata": {},
   "source": [
    "Bagging is a way of manipulating the training data so that you are able to input different samples of the training data through different models and takes the majority of its predictions. This is a method used to reduce overfitting for complex models"
   ]
  },
  {
   "cell_type": "code",
   "execution_count": 48,
   "metadata": {
    "ExecuteTime": {
     "end_time": "2020-03-30T14:27:55.748228Z",
     "start_time": "2020-03-30T14:27:55.561701Z"
    }
   },
   "outputs": [],
   "source": [
    "from sklearn.ensemble import BaggingClassifier"
   ]
  },
  {
   "cell_type": "code",
   "execution_count": 49,
   "metadata": {
    "ExecuteTime": {
     "end_time": "2020-03-30T14:28:39.142980Z",
     "start_time": "2020-03-30T14:27:55.750293Z"
    }
   },
   "outputs": [
    {
     "name": "stdout",
     "output_type": "stream",
     "text": [
      "Best Parameters: {'base_estimator': LogisticRegression(C=0.046415888336127774, class_weight=None, dual=False,\n",
      "                   fit_intercept=True, intercept_scaling=1, l1_ratio=None,\n",
      "                   max_iter=100, multi_class='warn', n_jobs=None, penalty='l2',\n",
      "                   random_state=None, solver='lbfgs', tol=0.0001, verbose=0,\n",
      "                   warm_start=False), 'max_features': 1.0, 'n_estimators': 40, 'random_state': 1}\n",
      "Train Score: 0.7924528301886793\n",
      "Test Score: 0.7850467289719626\n"
     ]
    }
   ],
   "source": [
    "BC=BaggingClassifier()\n",
    "BC_params = {'base_estimator': [LogisticRegression(C=0.046415888336127774,\n",
    "                                                   penalty='l2',\n",
    "                                                   max_iter=100,\n",
    "                                                   solver='lbfgs')],\n",
    "             'n_estimators':[10,20,25,30,40,50,60,70,75,80,90,100],\n",
    "             'max_features':[0.7,0.8,0.9,1.0],\n",
    "             'random_state':[1]}\n",
    "\n",
    "BC_gridsearch = GridSearchCV(BC, BC_params,n_jobs=2,cv=5,verbose=0)\n",
    "\n",
    "BC_gridsearch.fit(X_train,y_train)\n",
    "print('Best Parameters:',BC_gridsearch.best_params_)\n",
    "print('Train Score:', BC_gridsearch.score(X_train,y_train))\n",
    "print('Test Score:',BC_gridsearch.score(X_test,y_test))"
   ]
  },
  {
   "cell_type": "markdown",
   "metadata": {},
   "source": [
    "##### it Seems as if it only improved the training score, however not the test score"
   ]
  },
  {
   "cell_type": "markdown",
   "metadata": {
    "focus": false,
    "id": "4fb29de2-5b98-474c-a4ad-5170b72b9aea"
   },
   "source": [
    "### Model evaluation:\n",
    "\n",
    "Your boss would rather tell a client incorrectly that they would get a lower salary job than tell a client incorrectly that they would get a high salary job. Adjust one of your models to ease his mind, and explain what it is doing and any tradeoffs.\n",
    "\n",
    "\n",
    "- Use cross-validation to evaluate your models.\n",
    "- Evaluate the accuracy, AUC, precision and recall of the models.\n",
    "- Plot the ROC and precision-recall curves for at least one of your models."
   ]
  },
  {
   "cell_type": "code",
   "execution_count": 50,
   "metadata": {
    "ExecuteTime": {
     "end_time": "2020-03-30T14:28:39.167024Z",
     "start_time": "2020-03-30T14:28:39.152859Z"
    }
   },
   "outputs": [
    {
     "name": "stdout",
     "output_type": "stream",
     "text": [
      "25 'th percentile: $ 69881.0\n",
      "40 'th percentile: $ 85000.0\n",
      "50 'th percentile: $ 95000.0\n",
      "60 'th percentile: $ 105000.0\n",
      "75 'th percentile: $ 125675.25\n"
     ]
    }
   ],
   "source": [
    "## YOUR CODE HERE\n",
    "for x in [25,40,50,60,75]:\n",
    "    print(x,'\\'th percentile: $',np.percentile(clean['salary'],x))\n",
    "    \n",
    "#Let us say anything above the 60th percentile is considered a high salary\n"
   ]
  },
  {
   "cell_type": "code",
   "execution_count": 51,
   "metadata": {
    "ExecuteTime": {
     "end_time": "2020-03-30T14:28:39.177214Z",
     "start_time": "2020-03-30T14:28:39.171869Z"
    }
   },
   "outputs": [],
   "source": [
    "df=clean.copy()"
   ]
  },
  {
   "cell_type": "code",
   "execution_count": 52,
   "metadata": {
    "ExecuteTime": {
     "end_time": "2020-03-30T14:28:39.662569Z",
     "start_time": "2020-03-30T14:28:39.180397Z"
    }
   },
   "outputs": [],
   "source": [
    "df['hilo']=[1 if x>=np.percentile(clean.copy()['salary'],60) else 0 for x in clean.copy()['salary']]\n"
   ]
  },
  {
   "cell_type": "code",
   "execution_count": 53,
   "metadata": {
    "ExecuteTime": {
     "end_time": "2020-03-30T14:28:39.677597Z",
     "start_time": "2020-03-30T14:28:39.665488Z"
    }
   },
   "outputs": [
    {
     "data": {
      "text/plain": [
       "0    0.587571\n",
       "1    0.412429\n",
       "Name: hilo, dtype: float64"
      ]
     },
     "execution_count": 53,
     "metadata": {},
     "output_type": "execute_result"
    }
   ],
   "source": [
    "#New Baseline\n",
    "df['hilo'].value_counts(normalize=True)"
   ]
  },
  {
   "cell_type": "code",
   "execution_count": 54,
   "metadata": {
    "ExecuteTime": {
     "end_time": "2020-03-30T14:28:39.729771Z",
     "start_time": "2020-03-30T14:28:39.680961Z"
    }
   },
   "outputs": [],
   "source": [
    "#Rerunning everything to dummify all words & companies\n",
    "y=df.pop('hilo')\n",
    "df=df.drop(columns='salary')\n",
    "df=pd.get_dummies(df,columns=['company','location'],drop_first=False)\n",
    "\n",
    "cvec = CountVectorizer(stop_words='english',ngram_range=(2,3),max_features=100)\n",
    "cvec.fit([words])\n",
    "\n",
    "#getting rid of job title in order to replace with word counts \n",
    "#of top 100 words\n",
    "job_title=df.pop('job_title')\n",
    "\n",
    "# Putting in counts of words for particular job titles\n",
    "vectorised= pd.DataFrame(cvec.transform(job_title).toarray(),columns=cvec.get_feature_names())\n",
    "X=pd.concat([df,vectorised],axis=1)"
   ]
  },
  {
   "cell_type": "code",
   "execution_count": 55,
   "metadata": {
    "ExecuteTime": {
     "end_time": "2020-03-30T14:28:39.741659Z",
     "start_time": "2020-03-30T14:28:39.732627Z"
    }
   },
   "outputs": [],
   "source": [
    "X_train,X_test,y_train,y_test = train_test_split(X,y,test_size=0.2,random_state=1)"
   ]
  },
  {
   "cell_type": "code",
   "execution_count": 56,
   "metadata": {
    "ExecuteTime": {
     "end_time": "2020-03-30T14:28:42.360481Z",
     "start_time": "2020-03-30T14:28:39.745078Z"
    }
   },
   "outputs": [
    {
     "name": "stdout",
     "output_type": "stream",
     "text": [
      "Best Parameters: {'C': 0.3593813663804626, 'max_iter': 100, 'penalty': 'l2', 'solver': 'lbfgs'}\n",
      "Training Score : 0.8160377358490566\n",
      "Test Score     : 0.8037383177570093\n"
     ]
    },
    {
     "name": "stderr",
     "output_type": "stream",
     "text": [
      "/Users/Huski/opt/anaconda3/lib/python3.7/site-packages/sklearn/model_selection/_search.py:814: DeprecationWarning: The default of the `iid` parameter will change from True to False in version 0.22 and will be removed in 0.24. This will change numeric results when test-set sizes are unequal.\n",
      "  DeprecationWarning)\n"
     ]
    }
   ],
   "source": [
    "model=LogisticRegression()\n",
    "\n",
    "gs_params = {'penalty' : ['l2'],\n",
    "             'solver'  : ['lbfgs'],\n",
    "             'C'       : np.logspace(-4,4,10),\n",
    "             'max_iter': [100,250,500]}\n",
    "\n",
    "lr_gridsearch = GridSearchCV(model, gs_params, n_jobs=2, cv=5, verbose=0)\n",
    "\n",
    "lr_gridsearch.fit(X_train,y_train)\n",
    "print('Best Parameters:', lr_gridsearch.best_params_)\n",
    "print('Training Score :',lr_gridsearch.score(X_train,y_train))\n",
    "print('Test Score     :', lr_gridsearch.score(X_test,y_test))"
   ]
  },
  {
   "cell_type": "markdown",
   "metadata": {},
   "source": [
    "##### Let's try bagging this"
   ]
  },
  {
   "cell_type": "code",
   "execution_count": 57,
   "metadata": {
    "ExecuteTime": {
     "end_time": "2020-03-30T14:28:42.819099Z",
     "start_time": "2020-03-30T14:28:42.365693Z"
    }
   },
   "outputs": [
    {
     "name": "stdout",
     "output_type": "stream",
     "text": [
      "Test Score: 0.8037383177570093\n"
     ]
    }
   ],
   "source": [
    "BC=BaggingClassifier(LogisticRegression(C=0.3593813663804626,\n",
    "                                        max_iter=100,\n",
    "                                        penalty='l2',\n",
    "                                        solver='lbfgs'),\n",
    "                     max_features=0.5,\n",
    "                     n_estimators=50,\n",
    "                     max_samples=0.5,\n",
    "                     random_state=1)\n",
    "BC.fit(X_train,y_train)\n",
    "print('Test Score:',BC.score(X_test,y_test))"
   ]
  },
  {
   "cell_type": "markdown",
   "metadata": {},
   "source": [
    "##### Still no improvement through bagging"
   ]
  },
  {
   "cell_type": "markdown",
   "metadata": {},
   "source": [
    "## Evaluation"
   ]
  },
  {
   "cell_type": "markdown",
   "metadata": {},
   "source": [
    "Out of the three different models that were used for this data, it seems that Logistic Regression with bagging was best with a Test Score of 0.8037 in order to predict whether a particular job was in the top 40% of all salaries or not given the small dataset of 531 points.\n",
    "\n",
    "GridSearchCV was used in all cases in order to find the best parameters of each model to find the highest test score possible.\n",
    "\n",
    "Let's have a look at whether the predictions predicted correctly"
   ]
  },
  {
   "cell_type": "code",
   "execution_count": 58,
   "metadata": {
    "ExecuteTime": {
     "end_time": "2020-03-30T14:28:42.828726Z",
     "start_time": "2020-03-30T14:28:42.823329Z"
    }
   },
   "outputs": [],
   "source": [
    "from sklearn.metrics import confusion_matrix, classification_report"
   ]
  },
  {
   "cell_type": "code",
   "execution_count": 59,
   "metadata": {
    "ExecuteTime": {
     "end_time": "2020-03-30T14:28:42.859557Z",
     "start_time": "2020-03-30T14:28:42.832076Z"
    },
    "scrolled": true
   },
   "outputs": [
    {
     "name": "stdout",
     "output_type": "stream",
     "text": [
      "\n",
      " Note: \n",
      "  High Salary is considered the top 40%\n"
     ]
    },
    {
     "data": {
      "text/html": [
       "<div>\n",
       "<style scoped>\n",
       "    .dataframe tbody tr th:only-of-type {\n",
       "        vertical-align: middle;\n",
       "    }\n",
       "\n",
       "    .dataframe tbody tr th {\n",
       "        vertical-align: top;\n",
       "    }\n",
       "\n",
       "    .dataframe thead th {\n",
       "        text-align: right;\n",
       "    }\n",
       "</style>\n",
       "<table border=\"1\" class=\"dataframe\">\n",
       "  <thead>\n",
       "    <tr style=\"text-align: right;\">\n",
       "      <th></th>\n",
       "      <th>Predicted low salary</th>\n",
       "      <th>Predicted High Salary</th>\n",
       "    </tr>\n",
       "  </thead>\n",
       "  <tbody>\n",
       "    <tr>\n",
       "      <td>Actual Low Salary</td>\n",
       "      <td>61</td>\n",
       "      <td>5</td>\n",
       "    </tr>\n",
       "    <tr>\n",
       "      <td>Actual High Salary</td>\n",
       "      <td>16</td>\n",
       "      <td>25</td>\n",
       "    </tr>\n",
       "  </tbody>\n",
       "</table>\n",
       "</div>"
      ],
      "text/plain": [
       "                    Predicted low salary  Predicted High Salary\n",
       "Actual Low Salary                     61                      5\n",
       "Actual High Salary                    16                     25"
      ]
     },
     "execution_count": 59,
     "metadata": {},
     "output_type": "execute_result"
    }
   ],
   "source": [
    "predictions=BC.predict(X_test)\n",
    "confusion=confusion_matrix(y_test,predictions,labels=[0,1])\n",
    "\n",
    "#This dataframe shows a confusion matrix and shows how many were predicted correctly\n",
    "#and predicted incorectly\n",
    "print('\\n Note: \\n  High Salary is considered the top 40%')\n",
    "pd.DataFrame(confusion,columns=['Predicted low salary','Predicted High Salary'], index=['Actual Low Salary','Actual High Salary'])"
   ]
  },
  {
   "cell_type": "markdown",
   "metadata": {},
   "source": [
    "as we can see from this, there are more predictions that were predicted low and were actually high ( in the top 40% ), than there were predicted high and was actually low which is the ideal situation that were requested. Because of this we want to minimise the false postitives as much as possible.\n",
    "\n",
    "In order to do so, we should look at the precision and the recall scores"
   ]
  },
  {
   "cell_type": "code",
   "execution_count": 60,
   "metadata": {
    "ExecuteTime": {
     "end_time": "2020-03-30T14:28:42.876871Z",
     "start_time": "2020-03-30T14:28:42.862527Z"
    }
   },
   "outputs": [
    {
     "name": "stdout",
     "output_type": "stream",
     "text": [
      "              precision    recall  f1-score   support\n",
      "\n",
      "           0       0.79      0.92      0.85        66\n",
      "           1       0.83      0.61      0.70        41\n",
      "\n",
      "    accuracy                           0.80       107\n",
      "   macro avg       0.81      0.77      0.78       107\n",
      "weighted avg       0.81      0.80      0.80       107\n",
      "\n"
     ]
    }
   ],
   "source": [
    "print(classification_report(y_test,predictions))"
   ]
  },
  {
   "cell_type": "markdown",
   "metadata": {},
   "source": [
    "TP - True Positive   \\\n",
    "TN - True Negative   \\\n",
    "FP - False Positive  \\\n",
    "FN - False Negative  \n",
    "\n",
    "\n",
    "In order to calculate the recall for actual low salary,  we do the following TN/(TN+FP). If we decrease FP, as mentioned as the target we want to achieve, then we will get a high recall for the Low salaries.\n",
    "\n",
    "In terms of precision, we would like to have a higher precision as that suggests that there are more correctly predicted data points for the test set.\n",
    "\n",
    "We COULD suggest that we have a higher FN to meet the requested needs., however this may lead to lower TN and TP, which will lower the model score. "
   ]
  },
  {
   "cell_type": "code",
   "execution_count": 61,
   "metadata": {
    "ExecuteTime": {
     "end_time": "2020-03-30T14:28:42.886227Z",
     "start_time": "2020-03-30T14:28:42.880819Z"
    }
   },
   "outputs": [],
   "source": [
    "#Self note :\n",
    "#0,1 - false positive\n",
    "#1,0 - false negative\n"
   ]
  },
  {
   "cell_type": "code",
   "execution_count": 62,
   "metadata": {
    "ExecuteTime": {
     "end_time": "2020-03-30T14:28:42.956733Z",
     "start_time": "2020-03-30T14:28:42.889163Z"
    }
   },
   "outputs": [],
   "source": [
    "probabilities_train = BC.predict_proba(X_train)\n",
    "probabilities_test  = BC.predict_proba(X_test )"
   ]
  },
  {
   "cell_type": "code",
   "execution_count": 63,
   "metadata": {
    "ExecuteTime": {
     "end_time": "2020-03-30T14:28:43.200778Z",
     "start_time": "2020-03-30T14:28:42.960815Z"
    }
   },
   "outputs": [],
   "source": [
    "import seaborn as sns\n",
    "import scikitplot as skplt\n",
    "from matplotlib.colors import ListedColormap\n",
    "cmap=ListedColormap(sns.color_palette('husl',2))"
   ]
  },
  {
   "cell_type": "code",
   "execution_count": 65,
   "metadata": {
    "ExecuteTime": {
     "end_time": "2020-03-30T14:29:38.036248Z",
     "start_time": "2020-03-30T14:29:37.808843Z"
    },
    "scrolled": false
   },
   "outputs": [
    {
     "data": {
      "image/png": "[encoded data removed]",
      "text/plain": [
       "<Figure size 720x576 with 1 Axes>"
      ]
     },
     "metadata": {
      "needs_background": "light"
     },
     "output_type": "display_data"
    }
   ],
   "source": [
    "skplt.metrics.plot_roc(y_test,probabilities_test,figsize=(10,8),cmap=cmap)\n",
    "plt.show()"
   ]
  },
  {
   "cell_type": "markdown",
   "metadata": {},
   "source": [
    "In a general case we want to minimise the false positive rate, as we do we not want to tell anyone that a particular job has a high salary when in fact it is classified as a low salary. It would also be ideal to have a high true postive rate because , if it actually is a high salary, we would want to mention that to them. Therefore the optimal point (in a general case) would be there the curve would be at a gradient of about 1, which looks like the False Positive rate is at around 0.2\n",
    "\n",
    "However, in specific cases, the ideal false positive rate and true positive rate may be different. In the situation where we would prefer to tell someone that it is a low salary and infact it is a high salary class, we would want the tradeoff of an increase in true positive rate would be vastly greater than the increase in false postive rate.\n",
    "\n",
    "Looking at this graph, it seems that there is a large spike at around a FPR of 1.5"
   ]
  },
  {
   "cell_type": "code",
   "execution_count": 66,
   "metadata": {
    "ExecuteTime": {
     "end_time": "2020-03-30T14:29:41.306557Z",
     "start_time": "2020-03-30T14:29:41.113287Z"
    }
   },
   "outputs": [
    {
     "data": {
      "image/png": "[encoded data removed]",
      "text/plain": [
       "<Figure size 720x576 with 1 Axes>"
      ]
     },
     "metadata": {
      "needs_background": "light"
     },
     "output_type": "display_data"
    }
   ],
   "source": [
    "skplt.metrics.plot_precision_recall(y_test,probabilities_test,figsize=(10,8),cmap=cmap)\n",
    "plt.show()"
   ]
  },
  {
   "cell_type": "markdown",
   "metadata": {},
   "source": [
    "As previously mentioned, our ideal situation is to have a low recall as well as a high precision for the Low salary. And by looking at the Precision recall curve, it may suggested that we should have a recall value of approximately 0.3 where the tradeoffs are marginal."
   ]
  }
 ],
 "metadata": {
  "kernelspec": {
   "display_name": "Python 3",
   "language": "python",
   "name": "python3"
  },
  "language_info": {
   "codemirror_mode": {
    "name": "ipython",
    "version": 3
   },
   "file_extension": ".py",
   "mimetype": "text/x-python",
   "name": "python",
   "nbconvert_exporter": "python",
   "pygments_lexer": "ipython3",
   "version": "3.7.4"
  },
  "toc": {
   "base_numbering": 1,
   "nav_menu": {},
   "number_sections": false,
   "sideBar": true,
   "skip_h1_title": true,
   "title_cell": "Table of Contents",
   "title_sidebar": "Contents",
   "toc_cell": false,
   "toc_position": {},
   "toc_section_display": "block",
   "toc_window_display": false
  },
  "varInspector": {
   "cols": {
    "lenName": 16,
    "lenType": 16,
    "lenVar": 40
   },
   "kernels_config": {
    "python": {
     "delete_cmd_postfix": "",
     "delete_cmd_prefix": "del ",
     "library": "var_list.py",
     "varRefreshCmd": "print(var_dic_list())"
    },
    "r": {
     "delete_cmd_postfix": ") ",
     "delete_cmd_prefix": "rm(",
     "library": "var_list.r",
     "varRefreshCmd": "cat(var_dic_list()) "
    }
   },
   "types_to_exclude": [
    "module",
    "function",
    "builtin_function_or_method",
    "instance",
    "_Feature"
   ],
   "window_display": false
  }
 },
 "nbformat": 4,
 "nbformat_minor": 1
}
